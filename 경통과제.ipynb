{
 "cells": [
  {
   "cell_type": "markdown",
   "metadata": {},
   "source": [
    "# [ 국내 총생산(GDP)에 미치는 요인 분석 ]\n",
    " > **다중회귀분석 + 분산분석(ANOVA)**\n",
    "### OECD 국가 대상(2018년)\n",
    "- data 출처 : KOSIS(국가 통계 포털)    \n",
    "https://kosis.kr/statisticsList/statisticsListIndex.do?menuId=M_02_01_01&vwcd=MT_RTITLE&parmTabId=M_02_01_01#SelectStatsBoxDiv     "
   ]
  },
  {
   "cell_type": "markdown",
   "metadata": {},
   "source": [
    "### Column 설명 (2018년 기준)\n",
    "- **국내총생산(GDP) : Target**\n",
    "> 1년동안 한 국가에서 생산된 재화와 용역의 시장가치를 합한 것. 한 나라의 경제 규모등을 나타내는 국민 소득의 지표임(=지역 내 총생산, GRDP)\n",
    "- GDP 성장률\n",
    "- 수출액\n",
    "- 수입액\n",
    "- 총인구\n",
    "- 실업률\n",
    "- 소비자물가지수\n",
    ">  가정이 소비하기 위해 구입하는 재화와 용역의 평균 가격을 측정한 지수(인플레이션 영향 조정 가능)\n",
    "- 인터넷 이용률\n",
    "> ICT 발전지수 등 중요한 국제지수 산출에 활용"
   ]
  },
  {
   "cell_type": "code",
   "execution_count": 57,
   "metadata": {},
   "outputs": [],
   "source": [
    "import pandas as pd\n",
    "import numpy as np\n",
    "\n",
    "data = pd.read_csv('new_data.csv', encoding='cp949')"
   ]
  },
  {
   "cell_type": "code",
   "execution_count": 58,
   "metadata": {},
   "outputs": [
    {
     "data": {
      "text/html": [
       "<div>\n",
       "<style scoped>\n",
       "    .dataframe tbody tr th:only-of-type {\n",
       "        vertical-align: middle;\n",
       "    }\n",
       "\n",
       "    .dataframe tbody tr th {\n",
       "        vertical-align: top;\n",
       "    }\n",
       "\n",
       "    .dataframe thead th {\n",
       "        text-align: right;\n",
       "    }\n",
       "</style>\n",
       "<table border=\"1\" class=\"dataframe\">\n",
       "  <thead>\n",
       "    <tr style=\"text-align: right;\">\n",
       "      <th></th>\n",
       "      <th>국가별</th>\n",
       "      <th>국내총생산</th>\n",
       "      <th>수출액</th>\n",
       "      <th>수입액</th>\n",
       "      <th>총인구</th>\n",
       "      <th>소비자물가지수</th>\n",
       "      <th>인터넷이용률</th>\n",
       "      <th>주가지수</th>\n",
       "    </tr>\n",
       "  </thead>\n",
       "  <tbody>\n",
       "    <tr>\n",
       "      <th>0</th>\n",
       "      <td>헝가리</td>\n",
       "      <td>157.9</td>\n",
       "      <td>123815</td>\n",
       "      <td>115979</td>\n",
       "      <td>9708</td>\n",
       "      <td>117.7</td>\n",
       "      <td>76.1</td>\n",
       "      <td>179.031</td>\n",
       "    </tr>\n",
       "    <tr>\n",
       "      <th>1</th>\n",
       "      <td>한국</td>\n",
       "      <td>1725.2</td>\n",
       "      <td>604860</td>\n",
       "      <td>535202</td>\n",
       "      <td>51607</td>\n",
       "      <td>104.5</td>\n",
       "      <td>95.9</td>\n",
       "      <td>115.704</td>\n",
       "    </tr>\n",
       "    <tr>\n",
       "      <th>2</th>\n",
       "      <td>핀란드</td>\n",
       "      <td>275.9</td>\n",
       "      <td>75869</td>\n",
       "      <td>78624</td>\n",
       "      <td>5523</td>\n",
       "      <td>111.2</td>\n",
       "      <td>88.9</td>\n",
       "      <td>115.051</td>\n",
       "    </tr>\n",
       "    <tr>\n",
       "      <th>3</th>\n",
       "      <td>프랑스</td>\n",
       "      <td>2787.9</td>\n",
       "      <td>581773</td>\n",
       "      <td>671434</td>\n",
       "      <td>64991</td>\n",
       "      <td>108.8</td>\n",
       "      <td>82.0</td>\n",
       "      <td>111.781</td>\n",
       "    </tr>\n",
       "    <tr>\n",
       "      <th>4</th>\n",
       "      <td>폴란드</td>\n",
       "      <td>587.1</td>\n",
       "      <td>263494</td>\n",
       "      <td>268880</td>\n",
       "      <td>37922</td>\n",
       "      <td>111.6</td>\n",
       "      <td>77.5</td>\n",
       "      <td>114.101</td>\n",
       "    </tr>\n",
       "  </tbody>\n",
       "</table>\n",
       "</div>"
      ],
      "text/plain": [
       "   국가별   국내총생산     수출액     수입액    총인구  소비자물가지수  인터넷이용률     주가지수\n",
       "0  헝가리   157.9  123815  115979   9708    117.7    76.1  179.031\n",
       "1   한국  1725.2  604860  535202  51607    104.5    95.9  115.704\n",
       "2  핀란드   275.9   75869   78624   5523    111.2    88.9  115.051\n",
       "3  프랑스  2787.9  581773  671434  64991    108.8    82.0  111.781\n",
       "4  폴란드   587.1  263494  268880  37922    111.6    77.5  114.101"
      ]
     },
     "execution_count": 58,
     "metadata": {},
     "output_type": "execute_result"
    }
   ],
   "source": [
    "data.head() # OECD 국가들의 data"
   ]
  },
  {
   "cell_type": "code",
   "execution_count": 59,
   "metadata": {},
   "outputs": [
    {
     "data": {
      "text/html": [
       "<div>\n",
       "<style scoped>\n",
       "    .dataframe tbody tr th:only-of-type {\n",
       "        vertical-align: middle;\n",
       "    }\n",
       "\n",
       "    .dataframe tbody tr th {\n",
       "        vertical-align: top;\n",
       "    }\n",
       "\n",
       "    .dataframe thead th {\n",
       "        text-align: right;\n",
       "    }\n",
       "</style>\n",
       "<table border=\"1\" class=\"dataframe\">\n",
       "  <thead>\n",
       "    <tr style=\"text-align: right;\">\n",
       "      <th></th>\n",
       "      <th>국내총생산</th>\n",
       "      <th>수출액</th>\n",
       "      <th>수입액</th>\n",
       "      <th>총인구</th>\n",
       "      <th>소비자물가지수</th>\n",
       "      <th>인터넷이용률</th>\n",
       "      <th>주가지수</th>\n",
       "    </tr>\n",
       "  </thead>\n",
       "  <tbody>\n",
       "    <tr>\n",
       "      <th>count</th>\n",
       "      <td>35.000000</td>\n",
       "      <td>3.500000e+01</td>\n",
       "      <td>3.500000e+01</td>\n",
       "      <td>35.000000</td>\n",
       "      <td>35.000000</td>\n",
       "      <td>35.000000</td>\n",
       "      <td>35.000000</td>\n",
       "    </tr>\n",
       "    <tr>\n",
       "      <th>mean</th>\n",
       "      <td>1481.020000</td>\n",
       "      <td>3.051442e+05</td>\n",
       "      <td>3.278726e+05</td>\n",
       "      <td>34851.942857</td>\n",
       "      <td>115.722857</td>\n",
       "      <td>85.468571</td>\n",
       "      <td>119.825400</td>\n",
       "    </tr>\n",
       "    <tr>\n",
       "      <th>std</th>\n",
       "      <td>3520.651538</td>\n",
       "      <td>3.924416e+05</td>\n",
       "      <td>4.886209e+05</td>\n",
       "      <td>59203.858680</td>\n",
       "      <td>16.857780</td>\n",
       "      <td>8.537487</td>\n",
       "      <td>24.112139</td>\n",
       "    </tr>\n",
       "    <tr>\n",
       "      <th>min</th>\n",
       "      <td>25.700000</td>\n",
       "      <td>1.180000e+02</td>\n",
       "      <td>1.170000e+02</td>\n",
       "      <td>337.000000</td>\n",
       "      <td>99.200000</td>\n",
       "      <td>62.300000</td>\n",
       "      <td>88.734000</td>\n",
       "    </tr>\n",
       "    <tr>\n",
       "      <th>25%</th>\n",
       "      <td>229.700000</td>\n",
       "      <td>4.305250e+04</td>\n",
       "      <td>5.754000e+04</td>\n",
       "      <td>5430.500000</td>\n",
       "      <td>109.400000</td>\n",
       "      <td>80.250000</td>\n",
       "      <td>108.504000</td>\n",
       "    </tr>\n",
       "    <tr>\n",
       "      <th>50%</th>\n",
       "      <td>434.200000</td>\n",
       "      <td>1.659380e+05</td>\n",
       "      <td>1.705920e+05</td>\n",
       "      <td>10522.000000</td>\n",
       "      <td>112.900000</td>\n",
       "      <td>86.500000</td>\n",
       "      <td>112.654000</td>\n",
       "    </tr>\n",
       "    <tr>\n",
       "      <th>75%</th>\n",
       "      <td>1426.800000</td>\n",
       "      <td>4.598970e+05</td>\n",
       "      <td>4.617205e+05</td>\n",
       "      <td>48177.000000</td>\n",
       "      <td>116.950000</td>\n",
       "      <td>90.900000</td>\n",
       "      <td>124.407000</td>\n",
       "    </tr>\n",
       "    <tr>\n",
       "      <th>max</th>\n",
       "      <td>20580.200000</td>\n",
       "      <td>1.664085e+06</td>\n",
       "      <td>2.614327e+06</td>\n",
       "      <td>327096.000000</td>\n",
       "      <td>203.500000</td>\n",
       "      <td>99.000000</td>\n",
       "      <td>211.054000</td>\n",
       "    </tr>\n",
       "  </tbody>\n",
       "</table>\n",
       "</div>"
      ],
      "text/plain": [
       "              국내총생산           수출액           수입액            총인구     소비자물가지수  \\\n",
       "count     35.000000  3.500000e+01  3.500000e+01      35.000000   35.000000   \n",
       "mean    1481.020000  3.051442e+05  3.278726e+05   34851.942857  115.722857   \n",
       "std     3520.651538  3.924416e+05  4.886209e+05   59203.858680   16.857780   \n",
       "min       25.700000  1.180000e+02  1.170000e+02     337.000000   99.200000   \n",
       "25%      229.700000  4.305250e+04  5.754000e+04    5430.500000  109.400000   \n",
       "50%      434.200000  1.659380e+05  1.705920e+05   10522.000000  112.900000   \n",
       "75%     1426.800000  4.598970e+05  4.617205e+05   48177.000000  116.950000   \n",
       "max    20580.200000  1.664085e+06  2.614327e+06  327096.000000  203.500000   \n",
       "\n",
       "          인터넷이용률        주가지수  \n",
       "count  35.000000   35.000000  \n",
       "mean   85.468571  119.825400  \n",
       "std     8.537487   24.112139  \n",
       "min    62.300000   88.734000  \n",
       "25%    80.250000  108.504000  \n",
       "50%    86.500000  112.654000  \n",
       "75%    90.900000  124.407000  \n",
       "max    99.000000  211.054000  "
      ]
     },
     "execution_count": 59,
     "metadata": {},
     "output_type": "execute_result"
    }
   ],
   "source": [
    "data.describe()"
   ]
  },
  {
   "cell_type": "code",
   "execution_count": 60,
   "metadata": {},
   "outputs": [],
   "source": [
    "# ols 모듈(statsmodels)\n",
    "from statsmodels.formula.api import ols\n",
    "import statsmodels.api as sm\n",
    "import statsmodels.formula.api as smf"
   ]
  },
  {
   "cell_type": "code",
   "execution_count": 61,
   "metadata": {},
   "outputs": [
    {
     "data": {
      "text/plain": [
       "Index(['국가별', '국내총생산', '수출액', '수입액', '총인구', '소비자물가지수', '인터넷이용률', '주가지수'], dtype='object')"
      ]
     },
     "execution_count": 61,
     "metadata": {},
     "output_type": "execute_result"
    }
   ],
   "source": [
    "data.columns"
   ]
  },
  {
   "cell_type": "code",
   "execution_count": 62,
   "metadata": {},
   "outputs": [],
   "source": [
    "# 스케일링(수출, 수입, 총인구 너무 커서)\n",
    "from sklearn.preprocessing import StandardScaler\n",
    "standardScaler = StandardScaler()\n",
    "data['수출액'] = standardScaler.fit_transform(data['수출액'].values.reshape(-1,1))\n",
    "data['수입액'] = standardScaler.fit_transform(data['수입액'].values.reshape(-1,1))\n",
    "data['총인구'] = standardScaler.fit_transform(data['총인구'].values.reshape(-1,1))"
   ]
  },
  {
   "cell_type": "code",
   "execution_count": 63,
   "metadata": {},
   "outputs": [
    {
     "data": {
      "text/html": [
       "<table class=\"simpletable\">\n",
       "<caption>OLS Regression Results</caption>\n",
       "<tr>\n",
       "  <th>Dep. Variable:</th>          <td>국내총생산</td>      <th>  R-squared:         </th> <td>   0.987</td>\n",
       "</tr>\n",
       "<tr>\n",
       "  <th>Model:</th>                   <td>OLS</td>       <th>  Adj. R-squared:    </th> <td>   0.984</td>\n",
       "</tr>\n",
       "<tr>\n",
       "  <th>Method:</th>             <td>Least Squares</td>  <th>  F-statistic:       </th> <td>   344.6</td>\n",
       "</tr>\n",
       "<tr>\n",
       "  <th>Date:</th>             <td>Mon, 30 Nov 2020</td> <th>  Prob (F-statistic):</th> <td>6.76e-25</td>\n",
       "</tr>\n",
       "<tr>\n",
       "  <th>Time:</th>                 <td>11:27:48</td>     <th>  Log-Likelihood:    </th> <td> -259.46</td>\n",
       "</tr>\n",
       "<tr>\n",
       "  <th>No. Observations:</th>      <td>    35</td>      <th>  AIC:               </th> <td>   532.9</td>\n",
       "</tr>\n",
       "<tr>\n",
       "  <th>Df Residuals:</th>          <td>    28</td>      <th>  BIC:               </th> <td>   543.8</td>\n",
       "</tr>\n",
       "<tr>\n",
       "  <th>Df Model:</th>              <td>     6</td>      <th>                     </th>     <td> </td>   \n",
       "</tr>\n",
       "<tr>\n",
       "  <th>Covariance Type:</th>      <td>nonrobust</td>    <th>                     </th>     <td> </td>   \n",
       "</tr>\n",
       "</table>\n",
       "<table class=\"simpletable\">\n",
       "<tr>\n",
       "      <td></td>         <th>coef</th>     <th>std err</th>      <th>t</th>      <th>P>|t|</th>  <th>[0.025</th>    <th>0.975]</th>  \n",
       "</tr>\n",
       "<tr>\n",
       "  <th>Intercept</th> <td> 1579.5353</td> <td> 1189.358</td> <td>    1.328</td> <td> 0.195</td> <td> -856.754</td> <td> 4015.825</td>\n",
       "</tr>\n",
       "<tr>\n",
       "  <th>총인구</th>       <td> 1688.6996</td> <td>  317.423</td> <td>    5.320</td> <td> 0.000</td> <td> 1038.488</td> <td> 2338.911</td>\n",
       "</tr>\n",
       "<tr>\n",
       "  <th>수출액</th>       <td>-2171.0324</td> <td>  307.478</td> <td>   -7.061</td> <td> 0.000</td> <td>-2800.873</td> <td>-1541.192</td>\n",
       "</tr>\n",
       "<tr>\n",
       "  <th>수입액</th>       <td> 3732.6143</td> <td>  536.355</td> <td>    6.959</td> <td> 0.000</td> <td> 2633.941</td> <td> 4831.288</td>\n",
       "</tr>\n",
       "<tr>\n",
       "  <th>소비자물가지수</th>   <td>  -19.7197</td> <td>    5.495</td> <td>   -3.589</td> <td> 0.001</td> <td>  -30.976</td> <td>   -8.464</td>\n",
       "</tr>\n",
       "<tr>\n",
       "  <th>주가지수</th>      <td>    5.7508</td> <td>    3.352</td> <td>    1.716</td> <td> 0.097</td> <td>   -1.115</td> <td>   12.616</td>\n",
       "</tr>\n",
       "<tr>\n",
       "  <th>인터넷이용률</th>    <td>   17.4850</td> <td>   10.806</td> <td>    1.618</td> <td> 0.117</td> <td>   -4.649</td> <td>   39.619</td>\n",
       "</tr>\n",
       "</table>\n",
       "<table class=\"simpletable\">\n",
       "<tr>\n",
       "  <th>Omnibus:</th>       <td> 6.931</td> <th>  Durbin-Watson:     </th> <td>   2.347</td>\n",
       "</tr>\n",
       "<tr>\n",
       "  <th>Prob(Omnibus):</th> <td> 0.031</td> <th>  Jarque-Bera (JB):  </th> <td>   5.453</td>\n",
       "</tr>\n",
       "<tr>\n",
       "  <th>Skew:</th>          <td>-0.788</td> <th>  Prob(JB):          </th> <td>  0.0655</td>\n",
       "</tr>\n",
       "<tr>\n",
       "  <th>Kurtosis:</th>      <td> 4.120</td> <th>  Cond. No.          </th> <td>2.97e+03</td>\n",
       "</tr>\n",
       "</table><br/><br/>Warnings:<br/>[1] Standard Errors assume that the covariance matrix of the errors is correctly specified.<br/>[2] The condition number is large, 2.97e+03. This might indicate that there are<br/>strong multicollinearity or other numerical problems."
      ],
      "text/plain": [
       "<class 'statsmodels.iolib.summary.Summary'>\n",
       "\"\"\"\n",
       "                            OLS Regression Results                            \n",
       "==============================================================================\n",
       "Dep. Variable:                  국내총생산   R-squared:                       0.987\n",
       "Model:                            OLS   Adj. R-squared:                  0.984\n",
       "Method:                 Least Squares   F-statistic:                     344.6\n",
       "Date:                Mon, 30 Nov 2020   Prob (F-statistic):           6.76e-25\n",
       "Time:                        11:27:48   Log-Likelihood:                -259.46\n",
       "No. Observations:                  35   AIC:                             532.9\n",
       "Df Residuals:                      28   BIC:                             543.8\n",
       "Df Model:                           6                                         \n",
       "Covariance Type:            nonrobust                                         \n",
       "==============================================================================\n",
       "                 coef    std err          t      P>|t|      [0.025      0.975]\n",
       "------------------------------------------------------------------------------\n",
       "Intercept   1579.5353   1189.358      1.328      0.195    -856.754    4015.825\n",
       "총인구         1688.6996    317.423      5.320      0.000    1038.488    2338.911\n",
       "수출액        -2171.0324    307.478     -7.061      0.000   -2800.873   -1541.192\n",
       "수입액         3732.6143    536.355      6.959      0.000    2633.941    4831.288\n",
       "소비자물가지수      -19.7197      5.495     -3.589      0.001     -30.976      -8.464\n",
       "주가지수           5.7508      3.352      1.716      0.097      -1.115      12.616\n",
       "인터넷이용률        17.4850     10.806      1.618      0.117      -4.649      39.619\n",
       "==============================================================================\n",
       "Omnibus:                        6.931   Durbin-Watson:                   2.347\n",
       "Prob(Omnibus):                  0.031   Jarque-Bera (JB):                5.453\n",
       "Skew:                          -0.788   Prob(JB):                       0.0655\n",
       "Kurtosis:                       4.120   Cond. No.                     2.97e+03\n",
       "==============================================================================\n",
       "\n",
       "Warnings:\n",
       "[1] Standard Errors assume that the covariance matrix of the errors is correctly specified.\n",
       "[2] The condition number is large, 2.97e+03. This might indicate that there are\n",
       "strong multicollinearity or other numerical problems.\n",
       "\"\"\""
      ]
     },
     "execution_count": 63,
     "metadata": {},
     "output_type": "execute_result"
    }
   ],
   "source": [
    "# 스케일 후\n",
    "model = smf.ols(formula = '국내총생산 ~ 총인구 + 수출액 + 수입액 + 소비자물가지수 + 주가지수 + 인터넷이용률', data = data)\n",
    "result = model.fit()\n",
    "result.summary()"
   ]
  },
  {
   "cell_type": "code",
   "execution_count": 65,
   "metadata": {},
   "outputs": [],
   "source": [
    "res = ols('국내총생산 ~ 총인구 + 수출액 + 수입액 + 소비자물가지수 + 인터넷이용률 + 주가지수', data=data).fit()\n",
    "from statsmodels.stats.outliers_influence import OLSInfluence\n",
    "cd, _ = OLSInfluence(res).cooks_distance"
   ]
  },
  {
   "cell_type": "code",
   "execution_count": 69,
   "metadata": {},
   "outputs": [],
   "source": [
    "fitted = res.predict(data)\n",
    "residual = data['국내총생산'] - fitted"
   ]
  },
  {
   "cell_type": "code",
   "execution_count": 71,
   "metadata": {},
   "outputs": [],
   "source": [
    "data['fit'] = fitted\n",
    "data['e'] = residual"
   ]
  },
  {
   "cell_type": "code",
   "execution_count": 81,
   "metadata": {},
   "outputs": [
    {
     "name": "stdout",
     "output_type": "stream",
     "text": [
      "5630576.695802281\n",
      "415798989.86019266\n",
      "421429566.5559949\n"
     ]
    }
   ],
   "source": [
    "# SSE, SSR, SST\n",
    "\n",
    "mean_of_y = np.mean(data['국내총생산'])\n",
    "\n",
    "SSE = sum(np.power(data['e'], 2))\n",
    "SSR = sum([np.power(i - mean_of_y,2) for i in data['fit']]) # 잔차제곱합\n",
    "\n",
    "SST = SSE + SSR\n",
    "\n",
    "print(SSE)\n",
    "print(SSR)\n",
    "print(SST)"
   ]
  },
  {
   "cell_type": "code",
   "execution_count": 82,
   "metadata": {},
   "outputs": [
    {
     "name": "stdout",
     "output_type": "stream",
     "text": [
      "0.9866393410841663\n"
     ]
    }
   ],
   "source": [
    "R = SSR/SST\n",
    "print(R)"
   ]
  },
  {
   "cell_type": "code",
   "execution_count": 50,
   "metadata": {},
   "outputs": [
    {
     "data": {
      "text/plain": [
       "25    37.103181\n",
       "29     1.328123\n",
       "6      0.241364\n",
       "16     0.150189\n",
       "4      0.112706\n",
       "dtype: float64"
      ]
     },
     "execution_count": 50,
     "metadata": {},
     "output_type": "execute_result"
    }
   ],
   "source": [
    "# cook's distance\n",
    "cd.sort_values(ascending=False).head()"
   ]
  },
  {
   "cell_type": "code",
   "execution_count": 53,
   "metadata": {},
   "outputs": [
    {
     "data": {
      "text/plain": [
       "<matplotlib.axes._subplots.AxesSubplot at 0x2cd90dd2608>"
      ]
     },
     "execution_count": 53,
     "metadata": {},
     "output_type": "execute_result"
    },
    {
     "data": {
      "image/png": "[encoded data removed]",
      "text/plain": [
       "<Figure size 432x288 with 1 Axes>"
      ]
     },
     "metadata": {
      "needs_background": "light"
     },
     "output_type": "display_data"
    }
   ],
   "source": [
    "import matplotlib.pyplot as plt\n",
    "import seaborn as sns\n",
    "import scipy.stats\n",
    "\n",
    "fitted = res.predict(data)\n",
    "residual = data['국내총생산'] - fitted\n",
    "\n",
    "sr = scipy.stats.zscore(residual)\n",
    "\n",
    "# 등분산성 검정\n",
    "sns.regplot(fitted, np.sqrt(np.abs(sr)), lowess=True, line_kws={'color': 'red'})"
   ]
  },
  {
   "cell_type": "code",
   "execution_count": 52,
   "metadata": {},
   "outputs": [
    {
     "data": {
      "text/plain": [
       "[<matplotlib.lines.Line2D at 0x2cd90c31848>]"
      ]
     },
     "execution_count": 52,
     "metadata": {},
     "output_type": "execute_result"
    },
    {
     "data": {
      "image/png": "[encoded data removed]",
      "text/plain": [
       "<Figure size 432x288 with 1 Axes>"
      ]
     },
     "metadata": {
      "needs_background": "light"
     },
     "output_type": "display_data"
    }
   ],
   "source": [
    "sr = scipy.stats.zscore(residual)\n",
    "(x, y), _ = scipy.stats.probplot(sr)\n",
    "sns.scatterplot(x, y)\n",
    "plt.plot([-3, 3], [-3, 3], '--', color='grey')"
   ]
  },
  {
   "cell_type": "code",
   "execution_count": 54,
   "metadata": {},
   "outputs": [
    {
     "data": {
      "text/plain": [
       "(0.9242371916770935, 0.018920784816145897)"
      ]
     },
     "execution_count": 54,
     "metadata": {},
     "output_type": "execute_result"
    }
   ],
   "source": [
    "# 샤피로검정 : 정규성을 대부분 만족\n",
    "scipy.stats.shapiro(residual)"
   ]
  }
 ],
 "metadata": {
  "kernelspec": {
   "display_name": "Python 3",
   "language": "python",
   "name": "python3"
  },
  "language_info": {
   "codemirror_mode": {
    "name": "ipython",
    "version": 3
   },
   "file_extension": ".py",
   "mimetype": "text/x-python",
   "name": "python",
   "nbconvert_exporter": "python",
   "pygments_lexer": "ipython3",
   "version": "3.7.7"
  }
 },
 "nbformat": 4,
 "nbformat_minor": 4
}
