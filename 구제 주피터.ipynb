{
 "cells": [
  {
   "cell_type": "markdown",
   "metadata": {},
   "source": [
    "# 회귀분석 팀플 분석\n",
    "### 칼럼 설명\n",
    "- Country_Region : kaggle Covid-19 에서 사용되는 지역 이름  \n",
    "- Province_State : 중국의 홍콩, 마카오 요런 느낌(도, 주)  \n",
    "- WorldBankName : World Bank 에서 사용하는 국가의 이름  \n",
    "- Health_exp_pct_GDP_2016 : GDP의 백분율로 표현되는 현재 건강 지출 수준    \n",
    " > 매년 소비되는 의료 상품과 서비스 포함\n",
    "- Health_exp_public_pct_2016 : 국내 공공 의료원으로부터 자금을 지원받은 현재 의료비 분담  \n",
    "- **Health_exp_out_of_pocket_pct_2016 : 현재 총 의료비 지출의 현금 외 지불 분담.**   \n",
    "- **Health_exp_per_capita_USD_2016 : 현재 미국 달러로 1인당 보건에 대한 지출(의료재화, 서비스 포함)**    \n",
    "- **per_capita_exp_PPP_2016 : PPP(구매력 평가)에서 국제 달러로 표시되는 1인당 보건에 대한 현재 지출**  \n",
    "- External_health_exp_pct_2016 : 외부 출처에서 자금을 조달한 현재 의료 지출의 몫     \n",
    "- Completeness_of_birth_reg_2009-18 : 출생신고 완료율    \n",
    "- Completeness_of_death_reg_2008-16 : 완전 사망 기준(사망자 추정 비율)  "
   ]
  },
  {
   "cell_type": "code",
   "execution_count": 1,
   "metadata": {},
   "outputs": [
    {
     "data": {
      "text/html": [
       "<div>\n",
       "<style scoped>\n",
       "    .dataframe tbody tr th:only-of-type {\n",
       "        vertical-align: middle;\n",
       "    }\n",
       "\n",
       "    .dataframe tbody tr th {\n",
       "        vertical-align: top;\n",
       "    }\n",
       "\n",
       "    .dataframe thead th {\n",
       "        text-align: right;\n",
       "    }\n",
       "</style>\n",
       "<table border=\"1\" class=\"dataframe\">\n",
       "  <thead>\n",
       "    <tr style=\"text-align: right;\">\n",
       "      <th></th>\n",
       "      <th>Country_Region</th>\n",
       "      <th>Province_State</th>\n",
       "      <th>World_Bank_Name</th>\n",
       "      <th>Health_exp_pct_GDP_2016</th>\n",
       "      <th>Health_exp_public_pct_2016</th>\n",
       "      <th>Health_exp_out_of_pocket_pct_2016</th>\n",
       "      <th>Health_exp_per_capita_USD_2016</th>\n",
       "      <th>per_capita_exp_PPP_2016</th>\n",
       "      <th>External_health_exp_pct_2016</th>\n",
       "      <th>Physicians_per_1000_2009-18</th>\n",
       "      <th>Nurse_midwife_per_1000_2009-18</th>\n",
       "      <th>Specialist_surgical_per_1000_2008-18</th>\n",
       "      <th>Completeness_of_birth_reg_2009-18</th>\n",
       "      <th>Completeness_of_death_reg_2008-16</th>\n",
       "    </tr>\n",
       "  </thead>\n",
       "  <tbody>\n",
       "    <tr>\n",
       "      <th>0</th>\n",
       "      <td>Afghanistan</td>\n",
       "      <td>NaN</td>\n",
       "      <td>Afghanistan</td>\n",
       "      <td>10.2</td>\n",
       "      <td>5.1</td>\n",
       "      <td>77.4</td>\n",
       "      <td>57.2</td>\n",
       "      <td>162.8</td>\n",
       "      <td>17.5</td>\n",
       "      <td>0.3</td>\n",
       "      <td>0.3</td>\n",
       "      <td>0.0</td>\n",
       "      <td>42.3</td>\n",
       "      <td>NaN</td>\n",
       "    </tr>\n",
       "    <tr>\n",
       "      <th>1</th>\n",
       "      <td>Albania</td>\n",
       "      <td>NaN</td>\n",
       "      <td>Albania</td>\n",
       "      <td>6.7</td>\n",
       "      <td>41.4</td>\n",
       "      <td>58.0</td>\n",
       "      <td>271.5</td>\n",
       "      <td>759.7</td>\n",
       "      <td>0.7</td>\n",
       "      <td>1.2</td>\n",
       "      <td>3.6</td>\n",
       "      <td>11.6</td>\n",
       "      <td>98.4</td>\n",
       "      <td>53.0</td>\n",
       "    </tr>\n",
       "    <tr>\n",
       "      <th>2</th>\n",
       "      <td>Algeria</td>\n",
       "      <td>NaN</td>\n",
       "      <td>Algeria</td>\n",
       "      <td>6.6</td>\n",
       "      <td>67.7</td>\n",
       "      <td>30.9</td>\n",
       "      <td>260.4</td>\n",
       "      <td>998.2</td>\n",
       "      <td>0.0</td>\n",
       "      <td>1.8</td>\n",
       "      <td>2.2</td>\n",
       "      <td>12.1</td>\n",
       "      <td>100.0</td>\n",
       "      <td>NaN</td>\n",
       "    </tr>\n",
       "    <tr>\n",
       "      <th>3</th>\n",
       "      <td>Andorra</td>\n",
       "      <td>NaN</td>\n",
       "      <td>Andorra</td>\n",
       "      <td>10.4</td>\n",
       "      <td>49.1</td>\n",
       "      <td>41.7</td>\n",
       "      <td>3834.7</td>\n",
       "      <td>4978.7</td>\n",
       "      <td>NaN</td>\n",
       "      <td>3.3</td>\n",
       "      <td>4.0</td>\n",
       "      <td>83.1</td>\n",
       "      <td>100.0</td>\n",
       "      <td>80.0</td>\n",
       "    </tr>\n",
       "    <tr>\n",
       "      <th>4</th>\n",
       "      <td>Angola</td>\n",
       "      <td>NaN</td>\n",
       "      <td>Angola</td>\n",
       "      <td>2.9</td>\n",
       "      <td>44.1</td>\n",
       "      <td>35.2</td>\n",
       "      <td>95.2</td>\n",
       "      <td>185.8</td>\n",
       "      <td>3.6</td>\n",
       "      <td>0.2</td>\n",
       "      <td>1.3</td>\n",
       "      <td>NaN</td>\n",
       "      <td>25.0</td>\n",
       "      <td>NaN</td>\n",
       "    </tr>\n",
       "  </tbody>\n",
       "</table>\n",
       "</div>"
      ],
      "text/plain": [
       "  Country_Region Province_State World_Bank_Name  Health_exp_pct_GDP_2016  \\\n",
       "0    Afghanistan            NaN     Afghanistan                     10.2   \n",
       "1        Albania            NaN         Albania                      6.7   \n",
       "2        Algeria            NaN         Algeria                      6.6   \n",
       "3        Andorra            NaN         Andorra                     10.4   \n",
       "4         Angola            NaN          Angola                      2.9   \n",
       "\n",
       "   Health_exp_public_pct_2016  Health_exp_out_of_pocket_pct_2016  \\\n",
       "0                         5.1                               77.4   \n",
       "1                        41.4                               58.0   \n",
       "2                        67.7                               30.9   \n",
       "3                        49.1                               41.7   \n",
       "4                        44.1                               35.2   \n",
       "\n",
       "   Health_exp_per_capita_USD_2016  per_capita_exp_PPP_2016  \\\n",
       "0                            57.2                    162.8   \n",
       "1                           271.5                    759.7   \n",
       "2                           260.4                    998.2   \n",
       "3                          3834.7                   4978.7   \n",
       "4                            95.2                    185.8   \n",
       "\n",
       "   External_health_exp_pct_2016  Physicians_per_1000_2009-18  \\\n",
       "0                          17.5                          0.3   \n",
       "1                           0.7                          1.2   \n",
       "2                           0.0                          1.8   \n",
       "3                           NaN                          3.3   \n",
       "4                           3.6                          0.2   \n",
       "\n",
       "   Nurse_midwife_per_1000_2009-18  Specialist_surgical_per_1000_2008-18  \\\n",
       "0                             0.3                                   0.0   \n",
       "1                             3.6                                  11.6   \n",
       "2                             2.2                                  12.1   \n",
       "3                             4.0                                  83.1   \n",
       "4                             1.3                                   NaN   \n",
       "\n",
       "   Completeness_of_birth_reg_2009-18  Completeness_of_death_reg_2008-16  \n",
       "0                               42.3                                NaN  \n",
       "1                               98.4                               53.0  \n",
       "2                              100.0                                NaN  \n",
       "3                              100.0                               80.0  \n",
       "4                               25.0                                NaN  "
      ]
     },
     "execution_count": 1,
     "metadata": {},
     "output_type": "execute_result"
    }
   ],
   "source": [
    "import pandas as pd\n",
    "import numpy as np\n",
    "\n",
    "data = pd.read_csv(\"Health_systems.csv\")\n",
    "data.head()"
   ]
  },
  {
   "cell_type": "code",
   "execution_count": 2,
   "metadata": {},
   "outputs": [
    {
     "data": {
      "text/plain": [
       "Index(['Country_Region', 'Province_State', 'World_Bank_Name',\n",
       "       'Health_exp_pct_GDP_2016', 'Health_exp_public_pct_2016',\n",
       "       'Health_exp_out_of_pocket_pct_2016', 'Health_exp_per_capita_USD_2016',\n",
       "       'per_capita_exp_PPP_2016', 'External_health_exp_pct_2016',\n",
       "       'Physicians_per_1000_2009-18', 'Nurse_midwife_per_1000_2009-18',\n",
       "       'Specialist_surgical_per_1000_2008-18',\n",
       "       'Completeness_of_birth_reg_2009-18',\n",
       "       'Completeness_of_death_reg_2008-16'],\n",
       "      dtype='object')"
      ]
     },
     "execution_count": 2,
     "metadata": {},
     "output_type": "execute_result"
    }
   ],
   "source": [
    "data.columns"
   ]
  },
  {
   "cell_type": "code",
   "execution_count": 3,
   "metadata": {},
   "outputs": [
    {
     "data": {
      "text/plain": [
       "(210, 14)"
      ]
     },
     "execution_count": 3,
     "metadata": {},
     "output_type": "execute_result"
    }
   ],
   "source": [
    "data.shape"
   ]
  },
  {
   "cell_type": "code",
   "execution_count": 4,
   "metadata": {},
   "outputs": [
    {
     "data": {
      "text/plain": [
       "Country_Region                           23\n",
       "Province_State                          196\n",
       "World_Bank_Name                           0\n",
       "Health_exp_pct_GDP_2016                  24\n",
       "Health_exp_public_pct_2016               24\n",
       "Health_exp_out_of_pocket_pct_2016        24\n",
       "Health_exp_per_capita_USD_2016           24\n",
       "per_capita_exp_PPP_2016                  24\n",
       "External_health_exp_pct_2016             43\n",
       "Physicians_per_1000_2009-18              21\n",
       "Nurse_midwife_per_1000_2009-18           21\n",
       "Specialist_surgical_per_1000_2008-18     35\n",
       "Completeness_of_birth_reg_2009-18        47\n",
       "Completeness_of_death_reg_2008-16       103\n",
       "dtype: int64"
      ]
     },
     "execution_count": 4,
     "metadata": {},
     "output_type": "execute_result"
    }
   ],
   "source": [
    "data.isna().sum() # 결측,,,,,,,,"
   ]
  },
  {
   "cell_type": "code",
   "execution_count": 5,
   "metadata": {},
   "outputs": [],
   "source": [
    "import matplotlib.pyplot as plt\n",
    "import seaborn as sns\n",
    "import os\n",
    "import warnings\n",
    "warnings.filterwarnings('ignore')"
   ]
  },
  {
   "cell_type": "markdown",
   "metadata": {},
   "source": [
    "### 1. Health_exp_per_capita_USD_2016   \n",
    "국내 공공 의료원으로부터 자금을 지원받은 현재 의료비 분담"
   ]
  },
  {
   "cell_type": "code",
   "execution_count": 6,
   "metadata": {},
   "outputs": [
    {
     "data": {
      "text/plain": [
       "count     186.000000\n",
       "mean     1037.004839\n",
       "std      1712.592621\n",
       "min        16.400000\n",
       "25%        85.700000\n",
       "50%       322.600000\n",
       "75%      1059.800000\n",
       "max      9869.700000\n",
       "Name: Health_exp_per_capita_USD_2016, dtype: float64"
      ]
     },
     "execution_count": 6,
     "metadata": {},
     "output_type": "execute_result"
    }
   ],
   "source": [
    "# Health_exp_per_capita_USD_2016 : 미국 달러로 의료 지출액(연속)\n",
    "data.Health_exp_per_capita_USD_2016.describe()"
   ]
  },
  {
   "cell_type": "code",
   "execution_count": 7,
   "metadata": {},
   "outputs": [
    {
     "data": {
      "text/plain": [
       "<matplotlib.axes._subplots.AxesSubplot at 0x1b079386dc8>"
      ]
     },
     "execution_count": 7,
     "metadata": {},
     "output_type": "execute_result"
    },
    {
     "data": {
      "image/png": "[encoded data removed]",
      "text/plain": [
       "<Figure size 504x360 with 1 Axes>"
      ]
     },
     "metadata": {
      "needs_background": "light"
     },
     "output_type": "display_data"
    }
   ],
   "source": [
    "# 미국 달러 지출액 plot\n",
    "f, ax = plt.subplots(figsize=(7,5)) \n",
    "sns.distplot(data['Health_exp_per_capita_USD_2016'])"
   ]
  },
  {
   "cell_type": "code",
   "execution_count": 8,
   "metadata": {},
   "outputs": [
    {
     "name": "stdout",
     "output_type": "stream",
     "text": [
      "Skewness(왜도) : 2.712211\n",
      "Kurtosis(첨도) : 8.346126\n"
     ]
    }
   ],
   "source": [
    "# 왜도, 첨도 계산하기\n",
    "print('Skewness(왜도) : %f' % data['Health_exp_per_capita_USD_2016'].skew()) \n",
    "print('Kurtosis(첨도) : %f' % data['Health_exp_per_capita_USD_2016'].kurt())"
   ]
  },
  {
   "cell_type": "markdown",
   "metadata": {},
   "source": [
    "정규화가 필요해보인다! 연속형변수"
   ]
  },
  {
   "cell_type": "code",
   "execution_count": 9,
   "metadata": {},
   "outputs": [
    {
     "data": {
      "image/png": "[encoded data removed]",
      "text/plain": [
       "<Figure size 1440x720 with 2 Axes>"
      ]
     },
     "metadata": {
      "needs_background": "light"
     },
     "output_type": "display_data"
    }
   ],
   "source": [
    "## QQ plot으로 정규성 검정\n",
    "\n",
    "from scipy.stats import norm # 정규분포\n",
    "from sklearn.preprocessing import StandardScaler\n",
    "from scipy import stats  \n",
    "\n",
    "fig = plt.figure(figsize=(20,10))\n",
    "fig.add_subplot(1,2,1)\n",
    "res = stats.probplot( data['Health_exp_per_capita_USD_2016'], plot=plt)\n",
    "\n",
    "fig.add_subplot(1,2,2)\n",
    "res = stats.probplot(np.log1p(data['Health_exp_per_capita_USD_2016']), plot=plt)"
   ]
  },
  {
   "cell_type": "code",
   "execution_count": 10,
   "metadata": {},
   "outputs": [
    {
     "data": {
      "text/plain": [
       "<matplotlib.axes._subplots.AxesSubplot at 0x1b003064288>"
      ]
     },
     "execution_count": 10,
     "metadata": {},
     "output_type": "execute_result"
    },
    {
     "data": {
      "image/png": "[encoded data removed]",
      "text/plain": [
       "<Figure size 432x288 with 1 Axes>"
      ]
     },
     "metadata": {
      "needs_background": "light"
     },
     "output_type": "display_data"
    }
   ],
   "source": [
    "# 로그 취해서 정규화\n",
    "data['Health_exp_per_capita_USD_2016'] = np.log1p(data['Health_exp_per_capita_USD_2016'])\n",
    "f, ax = plt.subplots(figsize=(6,4))\n",
    "sns.distplot(data['Health_exp_per_capita_USD_2016'])"
   ]
  },
  {
   "cell_type": "markdown",
   "metadata": {},
   "source": [
    "### 2. Health_exp_out_of_pocket_pct_2016\n",
    "현재 총 의료비 지출의 현금 외 지불 분담."
   ]
  },
  {
   "cell_type": "code",
   "execution_count": 11,
   "metadata": {},
   "outputs": [
    {
     "data": {
      "text/plain": [
       "count    186.000000\n",
       "mean      32.661828\n",
       "std       19.572777\n",
       "min        0.100000\n",
       "25%       16.200000\n",
       "50%       30.100000\n",
       "75%       44.825000\n",
       "max       81.000000\n",
       "Name: Health_exp_out_of_pocket_pct_2016, dtype: float64"
      ]
     },
     "execution_count": 11,
     "metadata": {},
     "output_type": "execute_result"
    }
   ],
   "source": [
    "data.Health_exp_out_of_pocket_pct_2016.describe() # 비교적 분포 고름"
   ]
  },
  {
   "cell_type": "code",
   "execution_count": 12,
   "metadata": {},
   "outputs": [
    {
     "data": {
      "text/plain": [
       "<matplotlib.axes._subplots.AxesSubplot at 0x1b0030a2f88>"
      ]
     },
     "execution_count": 12,
     "metadata": {},
     "output_type": "execute_result"
    },
    {
     "data": {
      "image/png": "[encoded data removed]",
      "text/plain": [
       "<Figure size 504x360 with 1 Axes>"
      ]
     },
     "metadata": {
      "needs_background": "light"
     },
     "output_type": "display_data"
    }
   ],
   "source": [
    "f, ax = plt.subplots(figsize=(7,5)) \n",
    "sns.distplot(data['Health_exp_out_of_pocket_pct_2016'])"
   ]
  },
  {
   "cell_type": "code",
   "execution_count": 13,
   "metadata": {},
   "outputs": [
    {
     "data": {
      "image/png": "[encoded data removed]",
      "text/plain": [
       "<Figure size 1440x720 with 2 Axes>"
      ]
     },
     "metadata": {
      "needs_background": "light"
     },
     "output_type": "display_data"
    }
   ],
   "source": [
    "fig = plt.figure(figsize=(20,10))\n",
    "fig.add_subplot(1,2,1)\n",
    "res = stats.probplot( data['Health_exp_out_of_pocket_pct_2016'], plot=plt)\n",
    "\n",
    "fig.add_subplot(1,2,2)\n",
    "res = stats.probplot(np.log1p(data['Health_exp_out_of_pocket_pct_2016']), plot=plt)"
   ]
  },
  {
   "cell_type": "markdown",
   "metadata": {},
   "source": [
    "로그정규화 하면 망함"
   ]
  },
  {
   "cell_type": "markdown",
   "metadata": {},
   "source": [
    "### 3. per_capita_exp_PPP_2016 \n",
    "PPP(구매력 평가)에서 국제 달러로 표시되는 1인당 보건에 대한 현재 지출"
   ]
  },
  {
   "cell_type": "code",
   "execution_count": 14,
   "metadata": {},
   "outputs": [
    {
     "data": {
      "text/plain": [
       "count     186.000000\n",
       "mean     1412.466667\n",
       "std      1690.018939\n",
       "min        29.900000\n",
       "25%       231.500000\n",
       "50%       782.500000\n",
       "75%      1885.500000\n",
       "max      9869.700000\n",
       "Name: per_capita_exp_PPP_2016, dtype: float64"
      ]
     },
     "execution_count": 14,
     "metadata": {},
     "output_type": "execute_result"
    }
   ],
   "source": [
    "data.per_capita_exp_PPP_2016.describe()"
   ]
  },
  {
   "cell_type": "code",
   "execution_count": 15,
   "metadata": {},
   "outputs": [
    {
     "data": {
      "text/plain": [
       "<matplotlib.axes._subplots.AxesSubplot at 0x1b0032071c8>"
      ]
     },
     "execution_count": 15,
     "metadata": {},
     "output_type": "execute_result"
    },
    {
     "data": {
      "image/png": "[encoded data removed]",
      "text/plain": [
       "<Figure size 504x360 with 1 Axes>"
      ]
     },
     "metadata": {
      "needs_background": "light"
     },
     "output_type": "display_data"
    }
   ],
   "source": [
    "f, ax = plt.subplots(figsize=(7,5)) \n",
    "sns.distplot(data['per_capita_exp_PPP_2016']) # 불균형,,"
   ]
  },
  {
   "cell_type": "code",
   "execution_count": 16,
   "metadata": {},
   "outputs": [
    {
     "data": {
      "image/png": "[encoded data removed]",
      "text/plain": [
       "<Figure size 1440x720 with 2 Axes>"
      ]
     },
     "metadata": {
      "needs_background": "light"
     },
     "output_type": "display_data"
    }
   ],
   "source": [
    "fig = plt.figure(figsize=(20,10))\n",
    "fig.add_subplot(1,2,1)\n",
    "res = stats.probplot( data['per_capita_exp_PPP_2016'], plot=plt)\n",
    "\n",
    "fig.add_subplot(1,2,2)\n",
    "res = stats.probplot(np.log1p(data['per_capita_exp_PPP_2016']), plot=plt)"
   ]
  },
  {
   "cell_type": "code",
   "execution_count": 17,
   "metadata": {},
   "outputs": [
    {
     "data": {
      "text/plain": [
       "<matplotlib.axes._subplots.AxesSubplot at 0x1b0030379c8>"
      ]
     },
     "execution_count": 17,
     "metadata": {},
     "output_type": "execute_result"
    },
    {
     "data": {
      "image/png": "[encoded data removed]",
      "text/plain": [
       "<Figure size 432x288 with 1 Axes>"
      ]
     },
     "metadata": {
      "needs_background": "light"
     },
     "output_type": "display_data"
    }
   ],
   "source": [
    "# 로그 취해서 정규화\n",
    "data['per_capita_exp_PPP_2016'] = np.log1p(data['per_capita_exp_PPP_2016'])\n",
    "f, ax = plt.subplots(figsize=(6,4))\n",
    "sns.distplot(data['per_capita_exp_PPP_2016'])"
   ]
  },
  {
   "cell_type": "code",
   "execution_count": 18,
   "metadata": {},
   "outputs": [
    {
     "data": {
      "text/html": [
       "<div>\n",
       "<style scoped>\n",
       "    .dataframe tbody tr th:only-of-type {\n",
       "        vertical-align: middle;\n",
       "    }\n",
       "\n",
       "    .dataframe tbody tr th {\n",
       "        vertical-align: top;\n",
       "    }\n",
       "\n",
       "    .dataframe thead th {\n",
       "        text-align: right;\n",
       "    }\n",
       "</style>\n",
       "<table border=\"1\" class=\"dataframe\">\n",
       "  <thead>\n",
       "    <tr style=\"text-align: right;\">\n",
       "      <th></th>\n",
       "      <th>Country_Region</th>\n",
       "      <th>Province_State</th>\n",
       "      <th>World_Bank_Name</th>\n",
       "      <th>Health_exp_pct_GDP_2016</th>\n",
       "      <th>Health_exp_public_pct_2016</th>\n",
       "      <th>Health_exp_out_of_pocket_pct_2016</th>\n",
       "      <th>Health_exp_per_capita_USD_2016</th>\n",
       "      <th>per_capita_exp_PPP_2016</th>\n",
       "      <th>External_health_exp_pct_2016</th>\n",
       "      <th>Physicians_per_1000_2009-18</th>\n",
       "      <th>Nurse_midwife_per_1000_2009-18</th>\n",
       "      <th>Specialist_surgical_per_1000_2008-18</th>\n",
       "      <th>Completeness_of_birth_reg_2009-18</th>\n",
       "      <th>Completeness_of_death_reg_2008-16</th>\n",
       "    </tr>\n",
       "  </thead>\n",
       "  <tbody>\n",
       "    <tr>\n",
       "      <th>0</th>\n",
       "      <td>Afghanistan</td>\n",
       "      <td>NaN</td>\n",
       "      <td>Afghanistan</td>\n",
       "      <td>10.2</td>\n",
       "      <td>5.1</td>\n",
       "      <td>77.4</td>\n",
       "      <td>4.063885</td>\n",
       "      <td>5.098646</td>\n",
       "      <td>17.5</td>\n",
       "      <td>0.3</td>\n",
       "      <td>0.3</td>\n",
       "      <td>0.0</td>\n",
       "      <td>42.3</td>\n",
       "      <td>NaN</td>\n",
       "    </tr>\n",
       "    <tr>\n",
       "      <th>1</th>\n",
       "      <td>Albania</td>\n",
       "      <td>NaN</td>\n",
       "      <td>Albania</td>\n",
       "      <td>6.7</td>\n",
       "      <td>41.4</td>\n",
       "      <td>58.0</td>\n",
       "      <td>5.607639</td>\n",
       "      <td>6.634239</td>\n",
       "      <td>0.7</td>\n",
       "      <td>1.2</td>\n",
       "      <td>3.6</td>\n",
       "      <td>11.6</td>\n",
       "      <td>98.4</td>\n",
       "      <td>53.0</td>\n",
       "    </tr>\n",
       "    <tr>\n",
       "      <th>2</th>\n",
       "      <td>Algeria</td>\n",
       "      <td>NaN</td>\n",
       "      <td>Algeria</td>\n",
       "      <td>6.6</td>\n",
       "      <td>67.7</td>\n",
       "      <td>30.9</td>\n",
       "      <td>5.566052</td>\n",
       "      <td>6.906955</td>\n",
       "      <td>0.0</td>\n",
       "      <td>1.8</td>\n",
       "      <td>2.2</td>\n",
       "      <td>12.1</td>\n",
       "      <td>100.0</td>\n",
       "      <td>NaN</td>\n",
       "    </tr>\n",
       "    <tr>\n",
       "      <th>3</th>\n",
       "      <td>Andorra</td>\n",
       "      <td>NaN</td>\n",
       "      <td>Andorra</td>\n",
       "      <td>10.4</td>\n",
       "      <td>49.1</td>\n",
       "      <td>41.7</td>\n",
       "      <td>8.252107</td>\n",
       "      <td>8.513125</td>\n",
       "      <td>NaN</td>\n",
       "      <td>3.3</td>\n",
       "      <td>4.0</td>\n",
       "      <td>83.1</td>\n",
       "      <td>100.0</td>\n",
       "      <td>80.0</td>\n",
       "    </tr>\n",
       "    <tr>\n",
       "      <th>4</th>\n",
       "      <td>Angola</td>\n",
       "      <td>NaN</td>\n",
       "      <td>Angola</td>\n",
       "      <td>2.9</td>\n",
       "      <td>44.1</td>\n",
       "      <td>35.2</td>\n",
       "      <td>4.566429</td>\n",
       "      <td>5.230039</td>\n",
       "      <td>3.6</td>\n",
       "      <td>0.2</td>\n",
       "      <td>1.3</td>\n",
       "      <td>NaN</td>\n",
       "      <td>25.0</td>\n",
       "      <td>NaN</td>\n",
       "    </tr>\n",
       "  </tbody>\n",
       "</table>\n",
       "</div>"
      ],
      "text/plain": [
       "  Country_Region Province_State World_Bank_Name  Health_exp_pct_GDP_2016  \\\n",
       "0    Afghanistan            NaN     Afghanistan                     10.2   \n",
       "1        Albania            NaN         Albania                      6.7   \n",
       "2        Algeria            NaN         Algeria                      6.6   \n",
       "3        Andorra            NaN         Andorra                     10.4   \n",
       "4         Angola            NaN          Angola                      2.9   \n",
       "\n",
       "   Health_exp_public_pct_2016  Health_exp_out_of_pocket_pct_2016  \\\n",
       "0                         5.1                               77.4   \n",
       "1                        41.4                               58.0   \n",
       "2                        67.7                               30.9   \n",
       "3                        49.1                               41.7   \n",
       "4                        44.1                               35.2   \n",
       "\n",
       "   Health_exp_per_capita_USD_2016  per_capita_exp_PPP_2016  \\\n",
       "0                        4.063885                 5.098646   \n",
       "1                        5.607639                 6.634239   \n",
       "2                        5.566052                 6.906955   \n",
       "3                        8.252107                 8.513125   \n",
       "4                        4.566429                 5.230039   \n",
       "\n",
       "   External_health_exp_pct_2016  Physicians_per_1000_2009-18  \\\n",
       "0                          17.5                          0.3   \n",
       "1                           0.7                          1.2   \n",
       "2                           0.0                          1.8   \n",
       "3                           NaN                          3.3   \n",
       "4                           3.6                          0.2   \n",
       "\n",
       "   Nurse_midwife_per_1000_2009-18  Specialist_surgical_per_1000_2008-18  \\\n",
       "0                             0.3                                   0.0   \n",
       "1                             3.6                                  11.6   \n",
       "2                             2.2                                  12.1   \n",
       "3                             4.0                                  83.1   \n",
       "4                             1.3                                   NaN   \n",
       "\n",
       "   Completeness_of_birth_reg_2009-18  Completeness_of_death_reg_2008-16  \n",
       "0                               42.3                                NaN  \n",
       "1                               98.4                               53.0  \n",
       "2                              100.0                                NaN  \n",
       "3                              100.0                               80.0  \n",
       "4                               25.0                                NaN  "
      ]
     },
     "execution_count": 18,
     "metadata": {},
     "output_type": "execute_result"
    }
   ],
   "source": [
    "data.head()"
   ]
  },
  {
   "cell_type": "code",
   "execution_count": 19,
   "metadata": {},
   "outputs": [
    {
     "data": {
      "text/html": [
       "<div>\n",
       "<style scoped>\n",
       "    .dataframe tbody tr th:only-of-type {\n",
       "        vertical-align: middle;\n",
       "    }\n",
       "\n",
       "    .dataframe tbody tr th {\n",
       "        vertical-align: top;\n",
       "    }\n",
       "\n",
       "    .dataframe thead th {\n",
       "        text-align: right;\n",
       "    }\n",
       "</style>\n",
       "<table border=\"1\" class=\"dataframe\">\n",
       "  <thead>\n",
       "    <tr style=\"text-align: right;\">\n",
       "      <th></th>\n",
       "      <th>Country_Region</th>\n",
       "      <th>Province_State</th>\n",
       "      <th>World_Bank_Name</th>\n",
       "      <th>Health_exp_pct_GDP_2016</th>\n",
       "      <th>Health_exp_public_pct_2016</th>\n",
       "      <th>Health_exp_out_of_pocket_pct_2016</th>\n",
       "      <th>Health_exp_per_capita_USD_2016</th>\n",
       "      <th>per_capita_exp_PPP_2016</th>\n",
       "      <th>External_health_exp_pct_2016</th>\n",
       "      <th>Physicians_per_1000_2009-18</th>\n",
       "      <th>Nurse_midwife_per_1000_2009-18</th>\n",
       "      <th>Specialist_surgical_per_1000_2008-18</th>\n",
       "      <th>Completeness_of_birth_reg_2009-18</th>\n",
       "      <th>Completeness_of_death_reg_2008-16</th>\n",
       "    </tr>\n",
       "  </thead>\n",
       "  <tbody>\n",
       "    <tr>\n",
       "      <th>0</th>\n",
       "      <td>Afghanistan</td>\n",
       "      <td>Afghanistan</td>\n",
       "      <td>Afghanistan</td>\n",
       "      <td>10.2</td>\n",
       "      <td>5.1</td>\n",
       "      <td>77.4</td>\n",
       "      <td>4.063885</td>\n",
       "      <td>5.098646</td>\n",
       "      <td>17.5</td>\n",
       "      <td>0.3</td>\n",
       "      <td>0.3</td>\n",
       "      <td>0.0</td>\n",
       "      <td>42.3</td>\n",
       "      <td>NaN</td>\n",
       "    </tr>\n",
       "    <tr>\n",
       "      <th>1</th>\n",
       "      <td>Albania</td>\n",
       "      <td>Albania</td>\n",
       "      <td>Albania</td>\n",
       "      <td>6.7</td>\n",
       "      <td>41.4</td>\n",
       "      <td>58.0</td>\n",
       "      <td>5.607639</td>\n",
       "      <td>6.634239</td>\n",
       "      <td>0.7</td>\n",
       "      <td>1.2</td>\n",
       "      <td>3.6</td>\n",
       "      <td>11.6</td>\n",
       "      <td>98.4</td>\n",
       "      <td>53.0</td>\n",
       "    </tr>\n",
       "    <tr>\n",
       "      <th>2</th>\n",
       "      <td>Algeria</td>\n",
       "      <td>Algeria</td>\n",
       "      <td>Algeria</td>\n",
       "      <td>6.6</td>\n",
       "      <td>67.7</td>\n",
       "      <td>30.9</td>\n",
       "      <td>5.566052</td>\n",
       "      <td>6.906955</td>\n",
       "      <td>0.0</td>\n",
       "      <td>1.8</td>\n",
       "      <td>2.2</td>\n",
       "      <td>12.1</td>\n",
       "      <td>100.0</td>\n",
       "      <td>NaN</td>\n",
       "    </tr>\n",
       "    <tr>\n",
       "      <th>3</th>\n",
       "      <td>Andorra</td>\n",
       "      <td>Andorra</td>\n",
       "      <td>Andorra</td>\n",
       "      <td>10.4</td>\n",
       "      <td>49.1</td>\n",
       "      <td>41.7</td>\n",
       "      <td>8.252107</td>\n",
       "      <td>8.513125</td>\n",
       "      <td>NaN</td>\n",
       "      <td>3.3</td>\n",
       "      <td>4.0</td>\n",
       "      <td>83.1</td>\n",
       "      <td>100.0</td>\n",
       "      <td>80.0</td>\n",
       "    </tr>\n",
       "    <tr>\n",
       "      <th>4</th>\n",
       "      <td>Angola</td>\n",
       "      <td>Angola</td>\n",
       "      <td>Angola</td>\n",
       "      <td>2.9</td>\n",
       "      <td>44.1</td>\n",
       "      <td>35.2</td>\n",
       "      <td>4.566429</td>\n",
       "      <td>5.230039</td>\n",
       "      <td>3.6</td>\n",
       "      <td>0.2</td>\n",
       "      <td>1.3</td>\n",
       "      <td>NaN</td>\n",
       "      <td>25.0</td>\n",
       "      <td>NaN</td>\n",
       "    </tr>\n",
       "  </tbody>\n",
       "</table>\n",
       "</div>"
      ],
      "text/plain": [
       "  Country_Region Province_State World_Bank_Name  Health_exp_pct_GDP_2016  \\\n",
       "0    Afghanistan    Afghanistan     Afghanistan                     10.2   \n",
       "1        Albania        Albania         Albania                      6.7   \n",
       "2        Algeria        Algeria         Algeria                      6.6   \n",
       "3        Andorra        Andorra         Andorra                     10.4   \n",
       "4         Angola         Angola          Angola                      2.9   \n",
       "\n",
       "   Health_exp_public_pct_2016  Health_exp_out_of_pocket_pct_2016  \\\n",
       "0                         5.1                               77.4   \n",
       "1                        41.4                               58.0   \n",
       "2                        67.7                               30.9   \n",
       "3                        49.1                               41.7   \n",
       "4                        44.1                               35.2   \n",
       "\n",
       "   Health_exp_per_capita_USD_2016  per_capita_exp_PPP_2016  \\\n",
       "0                        4.063885                 5.098646   \n",
       "1                        5.607639                 6.634239   \n",
       "2                        5.566052                 6.906955   \n",
       "3                        8.252107                 8.513125   \n",
       "4                        4.566429                 5.230039   \n",
       "\n",
       "   External_health_exp_pct_2016  Physicians_per_1000_2009-18  \\\n",
       "0                          17.5                          0.3   \n",
       "1                           0.7                          1.2   \n",
       "2                           0.0                          1.8   \n",
       "3                           NaN                          3.3   \n",
       "4                           3.6                          0.2   \n",
       "\n",
       "   Nurse_midwife_per_1000_2009-18  Specialist_surgical_per_1000_2008-18  \\\n",
       "0                             0.3                                   0.0   \n",
       "1                             3.6                                  11.6   \n",
       "2                             2.2                                  12.1   \n",
       "3                             4.0                                  83.1   \n",
       "4                             1.3                                   NaN   \n",
       "\n",
       "   Completeness_of_birth_reg_2009-18  Completeness_of_death_reg_2008-16  \n",
       "0                               42.3                                NaN  \n",
       "1                               98.4                               53.0  \n",
       "2                              100.0                                NaN  \n",
       "3                              100.0                               80.0  \n",
       "4                               25.0                                NaN  "
      ]
     },
     "execution_count": 19,
     "metadata": {},
     "output_type": "execute_result"
    }
   ],
   "source": [
    "# Province_State 결측치를 Country_Region으로 채우기\n",
    "data.Province_State.fillna(data['Country_Region'], inplace=True)\n",
    "data.head()"
   ]
  },
  {
   "cell_type": "markdown",
   "metadata": {},
   "source": [
    "### 외부 데이터 이용"
   ]
  },
  {
   "cell_type": "code",
   "execution_count": 20,
   "metadata": {},
   "outputs": [
    {
     "data": {
      "text/html": [
       "<div>\n",
       "<style scoped>\n",
       "    .dataframe tbody tr th:only-of-type {\n",
       "        vertical-align: middle;\n",
       "    }\n",
       "\n",
       "    .dataframe tbody tr th {\n",
       "        vertical-align: top;\n",
       "    }\n",
       "\n",
       "    .dataframe thead th {\n",
       "        text-align: right;\n",
       "    }\n",
       "</style>\n",
       "<table border=\"1\" class=\"dataframe\">\n",
       "  <thead>\n",
       "    <tr style=\"text-align: right;\">\n",
       "      <th></th>\n",
       "      <th>country</th>\n",
       "      <th>pop</th>\n",
       "      <th>tests</th>\n",
       "      <th>testpop</th>\n",
       "      <th>density</th>\n",
       "      <th>medianage</th>\n",
       "      <th>urbanpop</th>\n",
       "      <th>quarantine</th>\n",
       "      <th>schools</th>\n",
       "      <th>restrictions</th>\n",
       "      <th>...</th>\n",
       "      <th>sex0</th>\n",
       "      <th>sex14</th>\n",
       "      <th>sex25</th>\n",
       "      <th>sex54</th>\n",
       "      <th>sex64</th>\n",
       "      <th>sex65plus</th>\n",
       "      <th>sexratio</th>\n",
       "      <th>lung</th>\n",
       "      <th>femalelung</th>\n",
       "      <th>malelung</th>\n",
       "    </tr>\n",
       "  </thead>\n",
       "  <tbody>\n",
       "    <tr>\n",
       "      <th>0</th>\n",
       "      <td>Afghanistan</td>\n",
       "      <td>38,928,346</td>\n",
       "      <td>NaN</td>\n",
       "      <td>NaN</td>\n",
       "      <td>60.0</td>\n",
       "      <td>18.0</td>\n",
       "      <td>25.0</td>\n",
       "      <td>NaN</td>\n",
       "      <td>NaN</td>\n",
       "      <td>NaN</td>\n",
       "      <td>...</td>\n",
       "      <td>1.05</td>\n",
       "      <td>1.03</td>\n",
       "      <td>1.03</td>\n",
       "      <td>1.03</td>\n",
       "      <td>0.97</td>\n",
       "      <td>0.85</td>\n",
       "      <td>1.03</td>\n",
       "      <td>37.62</td>\n",
       "      <td>36.31</td>\n",
       "      <td>39.33</td>\n",
       "    </tr>\n",
       "    <tr>\n",
       "      <th>1</th>\n",
       "      <td>Albania</td>\n",
       "      <td>2,877,797</td>\n",
       "      <td>NaN</td>\n",
       "      <td>NaN</td>\n",
       "      <td>105.0</td>\n",
       "      <td>36.0</td>\n",
       "      <td>63.0</td>\n",
       "      <td>NaN</td>\n",
       "      <td>NaN</td>\n",
       "      <td>NaN</td>\n",
       "      <td>...</td>\n",
       "      <td>1.08</td>\n",
       "      <td>1.11</td>\n",
       "      <td>1.09</td>\n",
       "      <td>0.93</td>\n",
       "      <td>0.95</td>\n",
       "      <td>0.87</td>\n",
       "      <td>0.98</td>\n",
       "      <td>11.67</td>\n",
       "      <td>7.02</td>\n",
       "      <td>17.04</td>\n",
       "    </tr>\n",
       "    <tr>\n",
       "      <th>2</th>\n",
       "      <td>Algeria</td>\n",
       "      <td>43,851,044</td>\n",
       "      <td>NaN</td>\n",
       "      <td>NaN</td>\n",
       "      <td>18.0</td>\n",
       "      <td>29.0</td>\n",
       "      <td>73.0</td>\n",
       "      <td>NaN</td>\n",
       "      <td>NaN</td>\n",
       "      <td>NaN</td>\n",
       "      <td>...</td>\n",
       "      <td>1.05</td>\n",
       "      <td>1.05</td>\n",
       "      <td>1.05</td>\n",
       "      <td>1.03</td>\n",
       "      <td>1.01</td>\n",
       "      <td>0.89</td>\n",
       "      <td>1.03</td>\n",
       "      <td>8.77</td>\n",
       "      <td>5.03</td>\n",
       "      <td>12.81</td>\n",
       "    </tr>\n",
       "  </tbody>\n",
       "</table>\n",
       "<p>3 rows × 22 columns</p>\n",
       "</div>"
      ],
      "text/plain": [
       "       country         pop  tests  testpop  density  medianage  urbanpop  \\\n",
       "0  Afghanistan  38,928,346    NaN      NaN     60.0       18.0      25.0   \n",
       "1      Albania   2,877,797    NaN      NaN    105.0       36.0      63.0   \n",
       "2      Algeria  43,851,044    NaN      NaN     18.0       29.0      73.0   \n",
       "\n",
       "  quarantine schools restrictions  ...  sex0  sex14  sex25  sex54  sex64  \\\n",
       "0        NaN     NaN          NaN  ...  1.05   1.03   1.03   1.03   0.97   \n",
       "1        NaN     NaN          NaN  ...  1.08   1.11   1.09   0.93   0.95   \n",
       "2        NaN     NaN          NaN  ...  1.05   1.05   1.05   1.03   1.01   \n",
       "\n",
       "   sex65plus  sexratio   lung  femalelung  malelung  \n",
       "0       0.85      1.03  37.62       36.31     39.33  \n",
       "1       0.87      0.98  11.67        7.02     17.04  \n",
       "2       0.89      1.03   8.77        5.03     12.81  \n",
       "\n",
       "[3 rows x 22 columns]"
      ]
     },
     "execution_count": 20,
     "metadata": {},
     "output_type": "execute_result"
    }
   ],
   "source": [
    "train = pd.read_csv('train.csv') # 확진자수 데이터\n",
    "pop = pd.read_csv('population.csv') # 인구, 인구밀도 데이터\n",
    "pop.head(3)"
   ]
  },
  {
   "cell_type": "code",
   "execution_count": 21,
   "metadata": {},
   "outputs": [
    {
     "data": {
      "text/plain": [
       "country           0\n",
       "pop              55\n",
       "tests           167\n",
       "testpop         167\n",
       "density          55\n",
       "medianage        55\n",
       "urbanpop         55\n",
       "quarantine      191\n",
       "schools         155\n",
       "restrictions    169\n",
       "hospibed         55\n",
       "smokers         111\n",
       "sex0             61\n",
       "sex14            61\n",
       "sex25            61\n",
       "sex54            61\n",
       "sex64            61\n",
       "sex65plus        61\n",
       "sexratio         62\n",
       "lung             74\n",
       "femalelung       75\n",
       "malelung         76\n",
       "dtype: int64"
      ]
     },
     "execution_count": 21,
     "metadata": {},
     "output_type": "execute_result"
    }
   ],
   "source": [
    "# 전처리\n",
    "pop.isna().sum()"
   ]
  },
  {
   "cell_type": "code",
   "execution_count": 22,
   "metadata": {},
   "outputs": [],
   "source": [
    "pop['pop'] = pop['pop'].str.replace(\",\", \"\").astype('float64')"
   ]
  },
  {
   "cell_type": "code",
   "execution_count": 23,
   "metadata": {},
   "outputs": [
    {
     "data": {
      "text/plain": [
       "(219, 22)"
      ]
     },
     "execution_count": 23,
     "metadata": {},
     "output_type": "execute_result"
    }
   ],
   "source": [
    "pop.shape # 왜 이게 9개 더 많냐?"
   ]
  },
  {
   "cell_type": "code",
   "execution_count": 24,
   "metadata": {
    "scrolled": false
   },
   "outputs": [
    {
     "data": {
      "text/html": [
       "<div>\n",
       "<style scoped>\n",
       "    .dataframe tbody tr th:only-of-type {\n",
       "        vertical-align: middle;\n",
       "    }\n",
       "\n",
       "    .dataframe tbody tr th {\n",
       "        vertical-align: top;\n",
       "    }\n",
       "\n",
       "    .dataframe thead th {\n",
       "        text-align: right;\n",
       "    }\n",
       "</style>\n",
       "<table border=\"1\" class=\"dataframe\">\n",
       "  <thead>\n",
       "    <tr style=\"text-align: right;\">\n",
       "      <th></th>\n",
       "      <th>Id</th>\n",
       "      <th>Province_State</th>\n",
       "      <th>Country_Region</th>\n",
       "      <th>Date</th>\n",
       "      <th>ConfirmedCases</th>\n",
       "      <th>Fatalities</th>\n",
       "    </tr>\n",
       "  </thead>\n",
       "  <tbody>\n",
       "    <tr>\n",
       "      <th>0</th>\n",
       "      <td>1</td>\n",
       "      <td>NaN</td>\n",
       "      <td>Afghanistan</td>\n",
       "      <td>2020-01-22</td>\n",
       "      <td>0.0</td>\n",
       "      <td>0.0</td>\n",
       "    </tr>\n",
       "    <tr>\n",
       "      <th>1</th>\n",
       "      <td>2</td>\n",
       "      <td>NaN</td>\n",
       "      <td>Afghanistan</td>\n",
       "      <td>2020-01-23</td>\n",
       "      <td>0.0</td>\n",
       "      <td>0.0</td>\n",
       "    </tr>\n",
       "    <tr>\n",
       "      <th>2</th>\n",
       "      <td>3</td>\n",
       "      <td>NaN</td>\n",
       "      <td>Afghanistan</td>\n",
       "      <td>2020-01-24</td>\n",
       "      <td>0.0</td>\n",
       "      <td>0.0</td>\n",
       "    </tr>\n",
       "  </tbody>\n",
       "</table>\n",
       "</div>"
      ],
      "text/plain": [
       "   Id Province_State Country_Region        Date  ConfirmedCases  Fatalities\n",
       "0   1            NaN    Afghanistan  2020-01-22             0.0         0.0\n",
       "1   2            NaN    Afghanistan  2020-01-23             0.0         0.0\n",
       "2   3            NaN    Afghanistan  2020-01-24             0.0         0.0"
      ]
     },
     "execution_count": 24,
     "metadata": {},
     "output_type": "execute_result"
    }
   ],
   "source": [
    "train.head(3)"
   ]
  },
  {
   "cell_type": "code",
   "execution_count": 25,
   "metadata": {},
   "outputs": [
    {
     "data": {
      "text/plain": [
       "Id                    0\n",
       "Province_State    20700\n",
       "Country_Region        0\n",
       "Date                  0\n",
       "ConfirmedCases        0\n",
       "Fatalities            0\n",
       "dtype: int64"
      ]
     },
     "execution_count": 25,
     "metadata": {},
     "output_type": "execute_result"
    }
   ],
   "source": [
    "# 전처리\n",
    "train.isna().sum()"
   ]
  },
  {
   "cell_type": "code",
   "execution_count": 26,
   "metadata": {},
   "outputs": [],
   "source": [
    "train['Date'] = pd.to_datetime(train.Date)\n",
    "train['country_province'] = train['Province_State']\n",
    "train.country_province.fillna(train['Country_Region'], inplace=True) # 결측치 채움"
   ]
  },
  {
   "cell_type": "code",
   "execution_count": 27,
   "metadata": {},
   "outputs": [
    {
     "data": {
      "text/html": [
       "<div>\n",
       "<style scoped>\n",
       "    .dataframe tbody tr th:only-of-type {\n",
       "        vertical-align: middle;\n",
       "    }\n",
       "\n",
       "    .dataframe tbody tr th {\n",
       "        vertical-align: top;\n",
       "    }\n",
       "\n",
       "    .dataframe thead th {\n",
       "        text-align: right;\n",
       "    }\n",
       "</style>\n",
       "<table border=\"1\" class=\"dataframe\">\n",
       "  <thead>\n",
       "    <tr style=\"text-align: right;\">\n",
       "      <th></th>\n",
       "      <th>Id</th>\n",
       "      <th>Province_State</th>\n",
       "      <th>Country_Region</th>\n",
       "      <th>Date</th>\n",
       "      <th>ConfirmedCases</th>\n",
       "      <th>Fatalities</th>\n",
       "      <th>country_province</th>\n",
       "      <th>country</th>\n",
       "      <th>pop</th>\n",
       "      <th>tests</th>\n",
       "      <th>...</th>\n",
       "      <th>Health_exp_out_of_pocket_pct_2016</th>\n",
       "      <th>Health_exp_per_capita_USD_2016</th>\n",
       "      <th>per_capita_exp_PPP_2016</th>\n",
       "      <th>External_health_exp_pct_2016</th>\n",
       "      <th>Physicians_per_1000_2009-18</th>\n",
       "      <th>Nurse_midwife_per_1000_2009-18</th>\n",
       "      <th>Specialist_surgical_per_1000_2008-18</th>\n",
       "      <th>Completeness_of_birth_reg_2009-18</th>\n",
       "      <th>Completeness_of_death_reg_2008-16</th>\n",
       "      <th>days</th>\n",
       "    </tr>\n",
       "  </thead>\n",
       "  <tbody>\n",
       "    <tr>\n",
       "      <th>0</th>\n",
       "      <td>1</td>\n",
       "      <td>NaN</td>\n",
       "      <td>Afghanistan</td>\n",
       "      <td>2020-01-22</td>\n",
       "      <td>0.0</td>\n",
       "      <td>0.0</td>\n",
       "      <td>Afghanistan</td>\n",
       "      <td>Afghanistan</td>\n",
       "      <td>38928346.0</td>\n",
       "      <td>NaN</td>\n",
       "      <td>...</td>\n",
       "      <td>NaN</td>\n",
       "      <td>NaN</td>\n",
       "      <td>NaN</td>\n",
       "      <td>NaN</td>\n",
       "      <td>NaN</td>\n",
       "      <td>NaN</td>\n",
       "      <td>NaN</td>\n",
       "      <td>NaN</td>\n",
       "      <td>NaN</td>\n",
       "      <td>0</td>\n",
       "    </tr>\n",
       "    <tr>\n",
       "      <th>1</th>\n",
       "      <td>2</td>\n",
       "      <td>NaN</td>\n",
       "      <td>Afghanistan</td>\n",
       "      <td>2020-01-23</td>\n",
       "      <td>0.0</td>\n",
       "      <td>0.0</td>\n",
       "      <td>Afghanistan</td>\n",
       "      <td>Afghanistan</td>\n",
       "      <td>38928346.0</td>\n",
       "      <td>NaN</td>\n",
       "      <td>...</td>\n",
       "      <td>NaN</td>\n",
       "      <td>NaN</td>\n",
       "      <td>NaN</td>\n",
       "      <td>NaN</td>\n",
       "      <td>NaN</td>\n",
       "      <td>NaN</td>\n",
       "      <td>NaN</td>\n",
       "      <td>NaN</td>\n",
       "      <td>NaN</td>\n",
       "      <td>1</td>\n",
       "    </tr>\n",
       "    <tr>\n",
       "      <th>2</th>\n",
       "      <td>3</td>\n",
       "      <td>NaN</td>\n",
       "      <td>Afghanistan</td>\n",
       "      <td>2020-01-24</td>\n",
       "      <td>0.0</td>\n",
       "      <td>0.0</td>\n",
       "      <td>Afghanistan</td>\n",
       "      <td>Afghanistan</td>\n",
       "      <td>38928346.0</td>\n",
       "      <td>NaN</td>\n",
       "      <td>...</td>\n",
       "      <td>NaN</td>\n",
       "      <td>NaN</td>\n",
       "      <td>NaN</td>\n",
       "      <td>NaN</td>\n",
       "      <td>NaN</td>\n",
       "      <td>NaN</td>\n",
       "      <td>NaN</td>\n",
       "      <td>NaN</td>\n",
       "      <td>NaN</td>\n",
       "      <td>2</td>\n",
       "    </tr>\n",
       "  </tbody>\n",
       "</table>\n",
       "<p>3 rows × 42 columns</p>\n",
       "</div>"
      ],
      "text/plain": [
       "   Id Province_State Country_Region       Date  ConfirmedCases  Fatalities  \\\n",
       "0   1            NaN    Afghanistan 2020-01-22             0.0         0.0   \n",
       "1   2            NaN    Afghanistan 2020-01-23             0.0         0.0   \n",
       "2   3            NaN    Afghanistan 2020-01-24             0.0         0.0   \n",
       "\n",
       "  country_province      country         pop  tests  ...  \\\n",
       "0      Afghanistan  Afghanistan  38928346.0    NaN  ...   \n",
       "1      Afghanistan  Afghanistan  38928346.0    NaN  ...   \n",
       "2      Afghanistan  Afghanistan  38928346.0    NaN  ...   \n",
       "\n",
       "   Health_exp_out_of_pocket_pct_2016  Health_exp_per_capita_USD_2016  \\\n",
       "0                                NaN                             NaN   \n",
       "1                                NaN                             NaN   \n",
       "2                                NaN                             NaN   \n",
       "\n",
       "   per_capita_exp_PPP_2016  External_health_exp_pct_2016  \\\n",
       "0                      NaN                           NaN   \n",
       "1                      NaN                           NaN   \n",
       "2                      NaN                           NaN   \n",
       "\n",
       "  Physicians_per_1000_2009-18 Nurse_midwife_per_1000_2009-18  \\\n",
       "0                         NaN                            NaN   \n",
       "1                         NaN                            NaN   \n",
       "2                         NaN                            NaN   \n",
       "\n",
       "  Specialist_surgical_per_1000_2008-18  Completeness_of_birth_reg_2009-18  \\\n",
       "0                                  NaN                                NaN   \n",
       "1                                  NaN                                NaN   \n",
       "2                                  NaN                                NaN   \n",
       "\n",
       "   Completeness_of_death_reg_2008-16  days  \n",
       "0                                NaN     0  \n",
       "1                                NaN     1  \n",
       "2                                NaN     2  \n",
       "\n",
       "[3 rows x 42 columns]"
      ]
     },
     "execution_count": 27,
     "metadata": {},
     "output_type": "execute_result"
    }
   ],
   "source": [
    "# train 데이터에 사이드 인포메이션 삽입(merge)\n",
    "train = train.merge(pop, how='left', left_on = ['country_province'], right_on=['country'])\n",
    "train = train.merge(data, how='left', left_on=[\"Country_Region\", \"Province_State\"], right_on = [\"Country_Region\", \"Province_State\"])\n",
    "train[\"days\"] = (train.Date - train.Date[0]).dt.days\n",
    "train.head(3)"
   ]
  },
  {
   "cell_type": "code",
   "execution_count": 28,
   "metadata": {},
   "outputs": [],
   "source": [
    "# 나라 이름 라벨인코딩\n",
    "\n",
    "from sklearn.preprocessing import LabelEncoder\n",
    "lb = LabelEncoder()\n",
    "train['country_province'] = lb.fit_transform(train.country_province)"
   ]
  },
  {
   "cell_type": "code",
   "execution_count": 29,
   "metadata": {},
   "outputs": [
    {
     "data": {
      "text/html": [
       "<div>\n",
       "<style scoped>\n",
       "    .dataframe tbody tr th:only-of-type {\n",
       "        vertical-align: middle;\n",
       "    }\n",
       "\n",
       "    .dataframe tbody tr th {\n",
       "        vertical-align: top;\n",
       "    }\n",
       "\n",
       "    .dataframe thead th {\n",
       "        text-align: right;\n",
       "    }\n",
       "</style>\n",
       "<table border=\"1\" class=\"dataframe\">\n",
       "  <thead>\n",
       "    <tr style=\"text-align: right;\">\n",
       "      <th></th>\n",
       "      <th>Id</th>\n",
       "      <th>Province_State</th>\n",
       "      <th>Country_Region</th>\n",
       "      <th>Date</th>\n",
       "      <th>ConfirmedCases</th>\n",
       "      <th>Fatalities</th>\n",
       "      <th>country_province</th>\n",
       "      <th>country</th>\n",
       "      <th>pop</th>\n",
       "      <th>tests</th>\n",
       "      <th>...</th>\n",
       "      <th>Health_exp_out_of_pocket_pct_2016</th>\n",
       "      <th>Health_exp_per_capita_USD_2016</th>\n",
       "      <th>per_capita_exp_PPP_2016</th>\n",
       "      <th>External_health_exp_pct_2016</th>\n",
       "      <th>Physicians_per_1000_2009-18</th>\n",
       "      <th>Nurse_midwife_per_1000_2009-18</th>\n",
       "      <th>Specialist_surgical_per_1000_2008-18</th>\n",
       "      <th>Completeness_of_birth_reg_2009-18</th>\n",
       "      <th>Completeness_of_death_reg_2008-16</th>\n",
       "      <th>days</th>\n",
       "    </tr>\n",
       "  </thead>\n",
       "  <tbody>\n",
       "    <tr>\n",
       "      <th>35992</th>\n",
       "      <td>35993</td>\n",
       "      <td>NaN</td>\n",
       "      <td>Zimbabwe</td>\n",
       "      <td>2020-05-13</td>\n",
       "      <td>37.0</td>\n",
       "      <td>4.0</td>\n",
       "      <td>311</td>\n",
       "      <td>NaN</td>\n",
       "      <td>NaN</td>\n",
       "      <td>NaN</td>\n",
       "      <td>...</td>\n",
       "      <td>NaN</td>\n",
       "      <td>NaN</td>\n",
       "      <td>NaN</td>\n",
       "      <td>NaN</td>\n",
       "      <td>NaN</td>\n",
       "      <td>NaN</td>\n",
       "      <td>NaN</td>\n",
       "      <td>NaN</td>\n",
       "      <td>NaN</td>\n",
       "      <td>112</td>\n",
       "    </tr>\n",
       "    <tr>\n",
       "      <th>35993</th>\n",
       "      <td>35994</td>\n",
       "      <td>NaN</td>\n",
       "      <td>Zimbabwe</td>\n",
       "      <td>2020-05-14</td>\n",
       "      <td>37.0</td>\n",
       "      <td>4.0</td>\n",
       "      <td>311</td>\n",
       "      <td>NaN</td>\n",
       "      <td>NaN</td>\n",
       "      <td>NaN</td>\n",
       "      <td>...</td>\n",
       "      <td>NaN</td>\n",
       "      <td>NaN</td>\n",
       "      <td>NaN</td>\n",
       "      <td>NaN</td>\n",
       "      <td>NaN</td>\n",
       "      <td>NaN</td>\n",
       "      <td>NaN</td>\n",
       "      <td>NaN</td>\n",
       "      <td>NaN</td>\n",
       "      <td>113</td>\n",
       "    </tr>\n",
       "    <tr>\n",
       "      <th>35994</th>\n",
       "      <td>35995</td>\n",
       "      <td>NaN</td>\n",
       "      <td>Zimbabwe</td>\n",
       "      <td>2020-05-15</td>\n",
       "      <td>42.0</td>\n",
       "      <td>4.0</td>\n",
       "      <td>311</td>\n",
       "      <td>NaN</td>\n",
       "      <td>NaN</td>\n",
       "      <td>NaN</td>\n",
       "      <td>...</td>\n",
       "      <td>NaN</td>\n",
       "      <td>NaN</td>\n",
       "      <td>NaN</td>\n",
       "      <td>NaN</td>\n",
       "      <td>NaN</td>\n",
       "      <td>NaN</td>\n",
       "      <td>NaN</td>\n",
       "      <td>NaN</td>\n",
       "      <td>NaN</td>\n",
       "      <td>114</td>\n",
       "    </tr>\n",
       "  </tbody>\n",
       "</table>\n",
       "<p>3 rows × 42 columns</p>\n",
       "</div>"
      ],
      "text/plain": [
       "          Id Province_State Country_Region       Date  ConfirmedCases  \\\n",
       "35992  35993            NaN       Zimbabwe 2020-05-13            37.0   \n",
       "35993  35994            NaN       Zimbabwe 2020-05-14            37.0   \n",
       "35994  35995            NaN       Zimbabwe 2020-05-15            42.0   \n",
       "\n",
       "       Fatalities  country_province country  pop  tests  ...  \\\n",
       "35992         4.0               311     NaN  NaN    NaN  ...   \n",
       "35993         4.0               311     NaN  NaN    NaN  ...   \n",
       "35994         4.0               311     NaN  NaN    NaN  ...   \n",
       "\n",
       "       Health_exp_out_of_pocket_pct_2016  Health_exp_per_capita_USD_2016  \\\n",
       "35992                                NaN                             NaN   \n",
       "35993                                NaN                             NaN   \n",
       "35994                                NaN                             NaN   \n",
       "\n",
       "       per_capita_exp_PPP_2016  External_health_exp_pct_2016  \\\n",
       "35992                      NaN                           NaN   \n",
       "35993                      NaN                           NaN   \n",
       "35994                      NaN                           NaN   \n",
       "\n",
       "      Physicians_per_1000_2009-18 Nurse_midwife_per_1000_2009-18  \\\n",
       "35992                         NaN                            NaN   \n",
       "35993                         NaN                            NaN   \n",
       "35994                         NaN                            NaN   \n",
       "\n",
       "      Specialist_surgical_per_1000_2008-18  Completeness_of_birth_reg_2009-18  \\\n",
       "35992                                  NaN                                NaN   \n",
       "35993                                  NaN                                NaN   \n",
       "35994                                  NaN                                NaN   \n",
       "\n",
       "       Completeness_of_death_reg_2008-16  days  \n",
       "35992                                NaN   112  \n",
       "35993                                NaN   113  \n",
       "35994                                NaN   114  \n",
       "\n",
       "[3 rows x 42 columns]"
      ]
     },
     "execution_count": 29,
     "metadata": {},
     "output_type": "execute_result"
    }
   ],
   "source": [
    "train.tail(3)"
   ]
  },
  {
   "cell_type": "code",
   "execution_count": 30,
   "metadata": {},
   "outputs": [
    {
     "data": {
      "text/plain": [
       "Index(['Id', 'Province_State', 'Country_Region', 'Date', 'ConfirmedCases',\n",
       "       'Fatalities', 'country_province', 'country', 'pop', 'tests', 'testpop',\n",
       "       'density', 'medianage', 'urbanpop', 'quarantine', 'schools',\n",
       "       'restrictions', 'hospibed', 'smokers', 'sex0', 'sex14', 'sex25',\n",
       "       'sex54', 'sex64', 'sex65plus', 'sexratio', 'lung', 'femalelung',\n",
       "       'malelung', 'World_Bank_Name', 'Health_exp_pct_GDP_2016',\n",
       "       'Health_exp_public_pct_2016', 'Health_exp_out_of_pocket_pct_2016',\n",
       "       'Health_exp_per_capita_USD_2016', 'per_capita_exp_PPP_2016',\n",
       "       'External_health_exp_pct_2016', 'Physicians_per_1000_2009-18',\n",
       "       'Nurse_midwife_per_1000_2009-18',\n",
       "       'Specialist_surgical_per_1000_2008-18',\n",
       "       'Completeness_of_birth_reg_2009-18',\n",
       "       'Completeness_of_death_reg_2008-16', 'days'],\n",
       "      dtype='object')"
      ]
     },
     "execution_count": 30,
     "metadata": {},
     "output_type": "execute_result"
    }
   ],
   "source": [
    "train.columns # 나중에 여기서 중요도 뽑을거임"
   ]
  },
  {
   "cell_type": "code",
   "execution_count": 31,
   "metadata": {},
   "outputs": [],
   "source": [
    "# 중요 칼럼만 추리기\n",
    "train = train[['country_province', 'Country_Region', 'Date', 'ConfirmedCases',\n",
    "       'Fatalities', 'pop', 'density', 'lung', 'femalelung',\n",
    "       'malelung', 'Health_exp_pct_GDP_2016',\n",
    "       'Health_exp_public_pct_2016', 'Health_exp_out_of_pocket_pct_2016',\n",
    "       'Health_exp_per_capita_USD_2016', 'per_capita_exp_PPP_2016',\n",
    "       'External_health_exp_pct_2016', 'Physicians_per_1000_2009-18',\n",
    "       'Nurse_midwife_per_1000_2009-18',\n",
    "       'Specialist_surgical_per_1000_2008-18',\n",
    "       'Completeness_of_birth_reg_2009-18',\n",
    "       'Completeness_of_death_reg_2008-16', 'days']]"
   ]
  },
  {
   "cell_type": "code",
   "execution_count": 32,
   "metadata": {},
   "outputs": [
    {
     "data": {
      "text/html": [
       "<div>\n",
       "<style scoped>\n",
       "    .dataframe tbody tr th:only-of-type {\n",
       "        vertical-align: middle;\n",
       "    }\n",
       "\n",
       "    .dataframe tbody tr th {\n",
       "        vertical-align: top;\n",
       "    }\n",
       "\n",
       "    .dataframe thead th {\n",
       "        text-align: right;\n",
       "    }\n",
       "</style>\n",
       "<table border=\"1\" class=\"dataframe\">\n",
       "  <thead>\n",
       "    <tr style=\"text-align: right;\">\n",
       "      <th></th>\n",
       "      <th>country_province</th>\n",
       "      <th>Country_Region</th>\n",
       "      <th>Date</th>\n",
       "      <th>ConfirmedCases</th>\n",
       "      <th>Fatalities</th>\n",
       "      <th>pop</th>\n",
       "      <th>density</th>\n",
       "      <th>lung</th>\n",
       "      <th>femalelung</th>\n",
       "      <th>malelung</th>\n",
       "      <th>...</th>\n",
       "      <th>Health_exp_out_of_pocket_pct_2016</th>\n",
       "      <th>Health_exp_per_capita_USD_2016</th>\n",
       "      <th>per_capita_exp_PPP_2016</th>\n",
       "      <th>External_health_exp_pct_2016</th>\n",
       "      <th>Physicians_per_1000_2009-18</th>\n",
       "      <th>Nurse_midwife_per_1000_2009-18</th>\n",
       "      <th>Specialist_surgical_per_1000_2008-18</th>\n",
       "      <th>Completeness_of_birth_reg_2009-18</th>\n",
       "      <th>Completeness_of_death_reg_2008-16</th>\n",
       "      <th>days</th>\n",
       "    </tr>\n",
       "  </thead>\n",
       "  <tbody>\n",
       "    <tr>\n",
       "      <th>0</th>\n",
       "      <td>0</td>\n",
       "      <td>Afghanistan</td>\n",
       "      <td>2020-01-22</td>\n",
       "      <td>0.0</td>\n",
       "      <td>0.0</td>\n",
       "      <td>38928346.0</td>\n",
       "      <td>60.0</td>\n",
       "      <td>37.62</td>\n",
       "      <td>36.31</td>\n",
       "      <td>39.33</td>\n",
       "      <td>...</td>\n",
       "      <td>NaN</td>\n",
       "      <td>NaN</td>\n",
       "      <td>NaN</td>\n",
       "      <td>NaN</td>\n",
       "      <td>NaN</td>\n",
       "      <td>NaN</td>\n",
       "      <td>NaN</td>\n",
       "      <td>NaN</td>\n",
       "      <td>NaN</td>\n",
       "      <td>0</td>\n",
       "    </tr>\n",
       "    <tr>\n",
       "      <th>1</th>\n",
       "      <td>0</td>\n",
       "      <td>Afghanistan</td>\n",
       "      <td>2020-01-23</td>\n",
       "      <td>0.0</td>\n",
       "      <td>0.0</td>\n",
       "      <td>38928346.0</td>\n",
       "      <td>60.0</td>\n",
       "      <td>37.62</td>\n",
       "      <td>36.31</td>\n",
       "      <td>39.33</td>\n",
       "      <td>...</td>\n",
       "      <td>NaN</td>\n",
       "      <td>NaN</td>\n",
       "      <td>NaN</td>\n",
       "      <td>NaN</td>\n",
       "      <td>NaN</td>\n",
       "      <td>NaN</td>\n",
       "      <td>NaN</td>\n",
       "      <td>NaN</td>\n",
       "      <td>NaN</td>\n",
       "      <td>1</td>\n",
       "    </tr>\n",
       "    <tr>\n",
       "      <th>2</th>\n",
       "      <td>0</td>\n",
       "      <td>Afghanistan</td>\n",
       "      <td>2020-01-24</td>\n",
       "      <td>0.0</td>\n",
       "      <td>0.0</td>\n",
       "      <td>38928346.0</td>\n",
       "      <td>60.0</td>\n",
       "      <td>37.62</td>\n",
       "      <td>36.31</td>\n",
       "      <td>39.33</td>\n",
       "      <td>...</td>\n",
       "      <td>NaN</td>\n",
       "      <td>NaN</td>\n",
       "      <td>NaN</td>\n",
       "      <td>NaN</td>\n",
       "      <td>NaN</td>\n",
       "      <td>NaN</td>\n",
       "      <td>NaN</td>\n",
       "      <td>NaN</td>\n",
       "      <td>NaN</td>\n",
       "      <td>2</td>\n",
       "    </tr>\n",
       "  </tbody>\n",
       "</table>\n",
       "<p>3 rows × 22 columns</p>\n",
       "</div>"
      ],
      "text/plain": [
       "   country_province Country_Region       Date  ConfirmedCases  Fatalities  \\\n",
       "0                 0    Afghanistan 2020-01-22             0.0         0.0   \n",
       "1                 0    Afghanistan 2020-01-23             0.0         0.0   \n",
       "2                 0    Afghanistan 2020-01-24             0.0         0.0   \n",
       "\n",
       "          pop  density   lung  femalelung  malelung  ...  \\\n",
       "0  38928346.0     60.0  37.62       36.31     39.33  ...   \n",
       "1  38928346.0     60.0  37.62       36.31     39.33  ...   \n",
       "2  38928346.0     60.0  37.62       36.31     39.33  ...   \n",
       "\n",
       "   Health_exp_out_of_pocket_pct_2016  Health_exp_per_capita_USD_2016  \\\n",
       "0                                NaN                             NaN   \n",
       "1                                NaN                             NaN   \n",
       "2                                NaN                             NaN   \n",
       "\n",
       "   per_capita_exp_PPP_2016  External_health_exp_pct_2016  \\\n",
       "0                      NaN                           NaN   \n",
       "1                      NaN                           NaN   \n",
       "2                      NaN                           NaN   \n",
       "\n",
       "   Physicians_per_1000_2009-18  Nurse_midwife_per_1000_2009-18  \\\n",
       "0                          NaN                             NaN   \n",
       "1                          NaN                             NaN   \n",
       "2                          NaN                             NaN   \n",
       "\n",
       "   Specialist_surgical_per_1000_2008-18  Completeness_of_birth_reg_2009-18  \\\n",
       "0                                   NaN                                NaN   \n",
       "1                                   NaN                                NaN   \n",
       "2                                   NaN                                NaN   \n",
       "\n",
       "   Completeness_of_death_reg_2008-16  days  \n",
       "0                                NaN     0  \n",
       "1                                NaN     1  \n",
       "2                                NaN     2  \n",
       "\n",
       "[3 rows x 22 columns]"
      ]
     },
     "execution_count": 32,
     "metadata": {},
     "output_type": "execute_result"
    }
   ],
   "source": [
    "train.head(3)"
   ]
  },
  {
   "cell_type": "markdown",
   "metadata": {},
   "source": [
    "## test 데이터셋 전처리"
   ]
  },
  {
   "cell_type": "code",
   "execution_count": 33,
   "metadata": {},
   "outputs": [
    {
     "data": {
      "text/html": [
       "<div>\n",
       "<style scoped>\n",
       "    .dataframe tbody tr th:only-of-type {\n",
       "        vertical-align: middle;\n",
       "    }\n",
       "\n",
       "    .dataframe tbody tr th {\n",
       "        vertical-align: top;\n",
       "    }\n",
       "\n",
       "    .dataframe thead th {\n",
       "        text-align: right;\n",
       "    }\n",
       "</style>\n",
       "<table border=\"1\" class=\"dataframe\">\n",
       "  <thead>\n",
       "    <tr style=\"text-align: right;\">\n",
       "      <th></th>\n",
       "      <th>ForecastId</th>\n",
       "      <th>Province_State</th>\n",
       "      <th>Country_Region</th>\n",
       "      <th>Date</th>\n",
       "    </tr>\n",
       "  </thead>\n",
       "  <tbody>\n",
       "    <tr>\n",
       "      <th>0</th>\n",
       "      <td>1</td>\n",
       "      <td>NaN</td>\n",
       "      <td>Afghanistan</td>\n",
       "      <td>2020-04-02</td>\n",
       "    </tr>\n",
       "    <tr>\n",
       "      <th>1</th>\n",
       "      <td>2</td>\n",
       "      <td>NaN</td>\n",
       "      <td>Afghanistan</td>\n",
       "      <td>2020-04-03</td>\n",
       "    </tr>\n",
       "    <tr>\n",
       "      <th>2</th>\n",
       "      <td>3</td>\n",
       "      <td>NaN</td>\n",
       "      <td>Afghanistan</td>\n",
       "      <td>2020-04-04</td>\n",
       "    </tr>\n",
       "  </tbody>\n",
       "</table>\n",
       "</div>"
      ],
      "text/plain": [
       "   ForecastId Province_State Country_Region        Date\n",
       "0           1            NaN    Afghanistan  2020-04-02\n",
       "1           2            NaN    Afghanistan  2020-04-03\n",
       "2           3            NaN    Afghanistan  2020-04-04"
      ]
     },
     "execution_count": 33,
     "metadata": {},
     "output_type": "execute_result"
    }
   ],
   "source": [
    "# test 데이터셋\n",
    "test= pd.read_csv('health_test.csv')\n",
    "test.head(3)"
   ]
  },
  {
   "cell_type": "code",
   "execution_count": 34,
   "metadata": {},
   "outputs": [],
   "source": [
    "test['Date'] = pd.to_datetime(test.Date)\n",
    "test['country_province'] = test['Province_State']\n",
    "test.country_province.fillna(test['Country_Region'], inplace=True) # 결측치 채움\n",
    "\n",
    "# test 데이터에 사이드 인포메이션 삽입(merge)\n",
    "test = test.merge(pop, how='left', left_on = ['country_province'], right_on=['country'])\n",
    "test = test.merge(data, how='left', left_on=[\"Country_Region\", \"Province_State\"], right_on = [\"Country_Region\", \"Province_State\"])\n",
    "test[\"days\"] = (test.Date - test.Date[0]).dt.days\n",
    "test.head(3)\n",
    "\n",
    "from sklearn.preprocessing import LabelEncoder\n",
    "lb = LabelEncoder()\n",
    "test['country_province'] = lb.fit_transform(test.country_province)"
   ]
  },
  {
   "cell_type": "code",
   "execution_count": 35,
   "metadata": {},
   "outputs": [
    {
     "data": {
      "text/plain": [
       "Index(['ForecastId', 'Province_State', 'Country_Region', 'Date',\n",
       "       'country_province', 'country', 'pop', 'tests', 'testpop', 'density',\n",
       "       'medianage', 'urbanpop', 'quarantine', 'schools', 'restrictions',\n",
       "       'hospibed', 'smokers', 'sex0', 'sex14', 'sex25', 'sex54', 'sex64',\n",
       "       'sex65plus', 'sexratio', 'lung', 'femalelung', 'malelung',\n",
       "       'World_Bank_Name', 'Health_exp_pct_GDP_2016',\n",
       "       'Health_exp_public_pct_2016', 'Health_exp_out_of_pocket_pct_2016',\n",
       "       'Health_exp_per_capita_USD_2016', 'per_capita_exp_PPP_2016',\n",
       "       'External_health_exp_pct_2016', 'Physicians_per_1000_2009-18',\n",
       "       'Nurse_midwife_per_1000_2009-18',\n",
       "       'Specialist_surgical_per_1000_2008-18',\n",
       "       'Completeness_of_birth_reg_2009-18',\n",
       "       'Completeness_of_death_reg_2008-16', 'days'],\n",
       "      dtype='object')"
      ]
     },
     "execution_count": 35,
     "metadata": {},
     "output_type": "execute_result"
    }
   ],
   "source": [
    "test.columns"
   ]
  },
  {
   "cell_type": "code",
   "execution_count": 36,
   "metadata": {},
   "outputs": [],
   "source": [
    "# Confirmed case 는 없음!\n",
    "test = test[['country_province', 'Country_Region', 'Date',\n",
    "       'pop', 'density', 'lung', 'femalelung',\n",
    "       'malelung', 'Health_exp_pct_GDP_2016',\n",
    "       'Health_exp_public_pct_2016', 'Health_exp_out_of_pocket_pct_2016',\n",
    "       'Health_exp_per_capita_USD_2016', 'per_capita_exp_PPP_2016',\n",
    "       'External_health_exp_pct_2016', 'Physicians_per_1000_2009-18',\n",
    "       'Nurse_midwife_per_1000_2009-18',\n",
    "       'Specialist_surgical_per_1000_2008-18',\n",
    "       'Completeness_of_birth_reg_2009-18',\n",
    "       'Completeness_of_death_reg_2008-16', 'days']]"
   ]
  },
  {
   "cell_type": "code",
   "execution_count": 37,
   "metadata": {},
   "outputs": [
    {
     "data": {
      "text/html": [
       "<div>\n",
       "<style scoped>\n",
       "    .dataframe tbody tr th:only-of-type {\n",
       "        vertical-align: middle;\n",
       "    }\n",
       "\n",
       "    .dataframe tbody tr th {\n",
       "        vertical-align: top;\n",
       "    }\n",
       "\n",
       "    .dataframe thead th {\n",
       "        text-align: right;\n",
       "    }\n",
       "</style>\n",
       "<table border=\"1\" class=\"dataframe\">\n",
       "  <thead>\n",
       "    <tr style=\"text-align: right;\">\n",
       "      <th></th>\n",
       "      <th>country_province</th>\n",
       "      <th>Country_Region</th>\n",
       "      <th>Date</th>\n",
       "      <th>pop</th>\n",
       "      <th>density</th>\n",
       "      <th>lung</th>\n",
       "      <th>femalelung</th>\n",
       "      <th>malelung</th>\n",
       "      <th>Health_exp_pct_GDP_2016</th>\n",
       "      <th>Health_exp_public_pct_2016</th>\n",
       "      <th>Health_exp_out_of_pocket_pct_2016</th>\n",
       "      <th>Health_exp_per_capita_USD_2016</th>\n",
       "      <th>per_capita_exp_PPP_2016</th>\n",
       "      <th>External_health_exp_pct_2016</th>\n",
       "      <th>Physicians_per_1000_2009-18</th>\n",
       "      <th>Nurse_midwife_per_1000_2009-18</th>\n",
       "      <th>Specialist_surgical_per_1000_2008-18</th>\n",
       "      <th>Completeness_of_birth_reg_2009-18</th>\n",
       "      <th>Completeness_of_death_reg_2008-16</th>\n",
       "      <th>days</th>\n",
       "    </tr>\n",
       "  </thead>\n",
       "  <tbody>\n",
       "    <tr>\n",
       "      <th>0</th>\n",
       "      <td>0</td>\n",
       "      <td>Afghanistan</td>\n",
       "      <td>2020-04-02</td>\n",
       "      <td>38928346.0</td>\n",
       "      <td>60.0</td>\n",
       "      <td>37.62</td>\n",
       "      <td>36.31</td>\n",
       "      <td>39.33</td>\n",
       "      <td>NaN</td>\n",
       "      <td>NaN</td>\n",
       "      <td>NaN</td>\n",
       "      <td>NaN</td>\n",
       "      <td>NaN</td>\n",
       "      <td>NaN</td>\n",
       "      <td>NaN</td>\n",
       "      <td>NaN</td>\n",
       "      <td>NaN</td>\n",
       "      <td>NaN</td>\n",
       "      <td>NaN</td>\n",
       "      <td>0</td>\n",
       "    </tr>\n",
       "    <tr>\n",
       "      <th>1</th>\n",
       "      <td>0</td>\n",
       "      <td>Afghanistan</td>\n",
       "      <td>2020-04-03</td>\n",
       "      <td>38928346.0</td>\n",
       "      <td>60.0</td>\n",
       "      <td>37.62</td>\n",
       "      <td>36.31</td>\n",
       "      <td>39.33</td>\n",
       "      <td>NaN</td>\n",
       "      <td>NaN</td>\n",
       "      <td>NaN</td>\n",
       "      <td>NaN</td>\n",
       "      <td>NaN</td>\n",
       "      <td>NaN</td>\n",
       "      <td>NaN</td>\n",
       "      <td>NaN</td>\n",
       "      <td>NaN</td>\n",
       "      <td>NaN</td>\n",
       "      <td>NaN</td>\n",
       "      <td>1</td>\n",
       "    </tr>\n",
       "    <tr>\n",
       "      <th>2</th>\n",
       "      <td>0</td>\n",
       "      <td>Afghanistan</td>\n",
       "      <td>2020-04-04</td>\n",
       "      <td>38928346.0</td>\n",
       "      <td>60.0</td>\n",
       "      <td>37.62</td>\n",
       "      <td>36.31</td>\n",
       "      <td>39.33</td>\n",
       "      <td>NaN</td>\n",
       "      <td>NaN</td>\n",
       "      <td>NaN</td>\n",
       "      <td>NaN</td>\n",
       "      <td>NaN</td>\n",
       "      <td>NaN</td>\n",
       "      <td>NaN</td>\n",
       "      <td>NaN</td>\n",
       "      <td>NaN</td>\n",
       "      <td>NaN</td>\n",
       "      <td>NaN</td>\n",
       "      <td>2</td>\n",
       "    </tr>\n",
       "  </tbody>\n",
       "</table>\n",
       "</div>"
      ],
      "text/plain": [
       "   country_province Country_Region       Date         pop  density   lung  \\\n",
       "0                 0    Afghanistan 2020-04-02  38928346.0     60.0  37.62   \n",
       "1                 0    Afghanistan 2020-04-03  38928346.0     60.0  37.62   \n",
       "2                 0    Afghanistan 2020-04-04  38928346.0     60.0  37.62   \n",
       "\n",
       "   femalelung  malelung  Health_exp_pct_GDP_2016  Health_exp_public_pct_2016  \\\n",
       "0       36.31     39.33                      NaN                         NaN   \n",
       "1       36.31     39.33                      NaN                         NaN   \n",
       "2       36.31     39.33                      NaN                         NaN   \n",
       "\n",
       "   Health_exp_out_of_pocket_pct_2016  Health_exp_per_capita_USD_2016  \\\n",
       "0                                NaN                             NaN   \n",
       "1                                NaN                             NaN   \n",
       "2                                NaN                             NaN   \n",
       "\n",
       "   per_capita_exp_PPP_2016  External_health_exp_pct_2016  \\\n",
       "0                      NaN                           NaN   \n",
       "1                      NaN                           NaN   \n",
       "2                      NaN                           NaN   \n",
       "\n",
       "   Physicians_per_1000_2009-18  Nurse_midwife_per_1000_2009-18  \\\n",
       "0                          NaN                             NaN   \n",
       "1                          NaN                             NaN   \n",
       "2                          NaN                             NaN   \n",
       "\n",
       "   Specialist_surgical_per_1000_2008-18  Completeness_of_birth_reg_2009-18  \\\n",
       "0                                   NaN                                NaN   \n",
       "1                                   NaN                                NaN   \n",
       "2                                   NaN                                NaN   \n",
       "\n",
       "   Completeness_of_death_reg_2008-16  days  \n",
       "0                                NaN     0  \n",
       "1                                NaN     1  \n",
       "2                                NaN     2  "
      ]
     },
     "execution_count": 37,
     "metadata": {},
     "output_type": "execute_result"
    }
   ],
   "source": [
    "test.head(3)"
   ]
  },
  {
   "cell_type": "code",
   "execution_count": 38,
   "metadata": {},
   "outputs": [
    {
     "data": {
      "text/html": [
       "<div>\n",
       "<style scoped>\n",
       "    .dataframe tbody tr th:only-of-type {\n",
       "        vertical-align: middle;\n",
       "    }\n",
       "\n",
       "    .dataframe tbody tr th {\n",
       "        vertical-align: top;\n",
       "    }\n",
       "\n",
       "    .dataframe thead th {\n",
       "        text-align: right;\n",
       "    }\n",
       "</style>\n",
       "<table border=\"1\" class=\"dataframe\">\n",
       "  <thead>\n",
       "    <tr style=\"text-align: right;\">\n",
       "      <th></th>\n",
       "      <th>country_province</th>\n",
       "      <th>Country_Region</th>\n",
       "      <th>Date</th>\n",
       "      <th>ConfirmedCases</th>\n",
       "      <th>Fatalities</th>\n",
       "      <th>pop</th>\n",
       "      <th>density</th>\n",
       "      <th>lung</th>\n",
       "      <th>femalelung</th>\n",
       "      <th>malelung</th>\n",
       "      <th>...</th>\n",
       "      <th>Health_exp_out_of_pocket_pct_2016</th>\n",
       "      <th>Health_exp_per_capita_USD_2016</th>\n",
       "      <th>per_capita_exp_PPP_2016</th>\n",
       "      <th>External_health_exp_pct_2016</th>\n",
       "      <th>Physicians_per_1000_2009-18</th>\n",
       "      <th>Nurse_midwife_per_1000_2009-18</th>\n",
       "      <th>Specialist_surgical_per_1000_2008-18</th>\n",
       "      <th>Completeness_of_birth_reg_2009-18</th>\n",
       "      <th>Completeness_of_death_reg_2008-16</th>\n",
       "      <th>days</th>\n",
       "    </tr>\n",
       "  </thead>\n",
       "  <tbody>\n",
       "    <tr>\n",
       "      <th>0</th>\n",
       "      <td>0</td>\n",
       "      <td>Afghanistan</td>\n",
       "      <td>2020-01-22</td>\n",
       "      <td>0.0</td>\n",
       "      <td>0.0</td>\n",
       "      <td>38928346.0</td>\n",
       "      <td>60.0</td>\n",
       "      <td>37.62</td>\n",
       "      <td>36.31</td>\n",
       "      <td>39.33</td>\n",
       "      <td>...</td>\n",
       "      <td>NaN</td>\n",
       "      <td>NaN</td>\n",
       "      <td>NaN</td>\n",
       "      <td>NaN</td>\n",
       "      <td>NaN</td>\n",
       "      <td>NaN</td>\n",
       "      <td>NaN</td>\n",
       "      <td>NaN</td>\n",
       "      <td>NaN</td>\n",
       "      <td>0</td>\n",
       "    </tr>\n",
       "    <tr>\n",
       "      <th>1</th>\n",
       "      <td>0</td>\n",
       "      <td>Afghanistan</td>\n",
       "      <td>2020-01-23</td>\n",
       "      <td>0.0</td>\n",
       "      <td>0.0</td>\n",
       "      <td>38928346.0</td>\n",
       "      <td>60.0</td>\n",
       "      <td>37.62</td>\n",
       "      <td>36.31</td>\n",
       "      <td>39.33</td>\n",
       "      <td>...</td>\n",
       "      <td>NaN</td>\n",
       "      <td>NaN</td>\n",
       "      <td>NaN</td>\n",
       "      <td>NaN</td>\n",
       "      <td>NaN</td>\n",
       "      <td>NaN</td>\n",
       "      <td>NaN</td>\n",
       "      <td>NaN</td>\n",
       "      <td>NaN</td>\n",
       "      <td>1</td>\n",
       "    </tr>\n",
       "    <tr>\n",
       "      <th>2</th>\n",
       "      <td>0</td>\n",
       "      <td>Afghanistan</td>\n",
       "      <td>2020-01-24</td>\n",
       "      <td>0.0</td>\n",
       "      <td>0.0</td>\n",
       "      <td>38928346.0</td>\n",
       "      <td>60.0</td>\n",
       "      <td>37.62</td>\n",
       "      <td>36.31</td>\n",
       "      <td>39.33</td>\n",
       "      <td>...</td>\n",
       "      <td>NaN</td>\n",
       "      <td>NaN</td>\n",
       "      <td>NaN</td>\n",
       "      <td>NaN</td>\n",
       "      <td>NaN</td>\n",
       "      <td>NaN</td>\n",
       "      <td>NaN</td>\n",
       "      <td>NaN</td>\n",
       "      <td>NaN</td>\n",
       "      <td>2</td>\n",
       "    </tr>\n",
       "  </tbody>\n",
       "</table>\n",
       "<p>3 rows × 22 columns</p>\n",
       "</div>"
      ],
      "text/plain": [
       "   country_province Country_Region       Date  ConfirmedCases  Fatalities  \\\n",
       "0                 0    Afghanistan 2020-01-22             0.0         0.0   \n",
       "1                 0    Afghanistan 2020-01-23             0.0         0.0   \n",
       "2                 0    Afghanistan 2020-01-24             0.0         0.0   \n",
       "\n",
       "          pop  density   lung  femalelung  malelung  ...  \\\n",
       "0  38928346.0     60.0  37.62       36.31     39.33  ...   \n",
       "1  38928346.0     60.0  37.62       36.31     39.33  ...   \n",
       "2  38928346.0     60.0  37.62       36.31     39.33  ...   \n",
       "\n",
       "   Health_exp_out_of_pocket_pct_2016  Health_exp_per_capita_USD_2016  \\\n",
       "0                                NaN                             NaN   \n",
       "1                                NaN                             NaN   \n",
       "2                                NaN                             NaN   \n",
       "\n",
       "   per_capita_exp_PPP_2016  External_health_exp_pct_2016  \\\n",
       "0                      NaN                           NaN   \n",
       "1                      NaN                           NaN   \n",
       "2                      NaN                           NaN   \n",
       "\n",
       "   Physicians_per_1000_2009-18  Nurse_midwife_per_1000_2009-18  \\\n",
       "0                          NaN                             NaN   \n",
       "1                          NaN                             NaN   \n",
       "2                          NaN                             NaN   \n",
       "\n",
       "   Specialist_surgical_per_1000_2008-18  Completeness_of_birth_reg_2009-18  \\\n",
       "0                                   NaN                                NaN   \n",
       "1                                   NaN                                NaN   \n",
       "2                                   NaN                                NaN   \n",
       "\n",
       "   Completeness_of_death_reg_2008-16  days  \n",
       "0                                NaN     0  \n",
       "1                                NaN     1  \n",
       "2                                NaN     2  \n",
       "\n",
       "[3 rows x 22 columns]"
      ]
     },
     "execution_count": 38,
     "metadata": {},
     "output_type": "execute_result"
    }
   ],
   "source": [
    "train.head(3)"
   ]
  },
  {
   "cell_type": "code",
   "execution_count": 39,
   "metadata": {},
   "outputs": [
    {
     "name": "stdout",
     "output_type": "stream",
     "text": [
      "(35995, 22) (13459, 20)\n"
     ]
    }
   ],
   "source": [
    "print(train.shape, test.shape) # 확진자수와 facility예측"
   ]
  },
  {
   "cell_type": "code",
   "execution_count": 40,
   "metadata": {},
   "outputs": [],
   "source": [
    "train[\"days_from_first_case\"] = 0\n",
    "test[\"days_from_first_case\"] = 0\n",
    "train[\"days_from_first_death\"] = 0\n",
    "train[\"days_from_case_100\"] = 0\n",
    "test[\"days_from_case_100\"] = 0\n",
    "test[\"days_from_first_death\"] = 0\n",
    "\n",
    "dates = list(train.Date.unique())\n",
    "for province in train.country_province.unique():\n",
    "    #print(province)\n",
    "    mask1 = train.country_province == province\n",
    "    mask2 = train.ConfirmedCases > 1.0\n",
    "    mask3 = train.ConfirmedCases > 100.0\n",
    "    mask4 = train.Fatalities > 1.0\n",
    "    try:\n",
    "        idx1 = train.loc[mask1 & mask2 ,[\"ConfirmedCases\"]].idxmin()[0]\n",
    "        dateidx1 = train.iloc[idx1][\"Date\"]\n",
    "    except:\n",
    "        dateidx1 = test.Date.max()\n",
    "        pass\n",
    "    #print(dateidx1)\n",
    "    train.loc[mask1 & (train.Date >= dateidx1), \"days_from_first_case\"] = (train.Date - dateidx1).dt.days\n",
    "    test.loc[mask1 & (test.Date >= dateidx1), \"days_from_first_case\"] = (test.Date - dateidx1).dt.days\n",
    "    \n",
    "    try:\n",
    "        idx1 = train.loc[mask1 & mask3 ,[\"ConfirmedCases\"]].idxmin()[0]\n",
    "        dateidx1 = train.iloc[idx1][\"Date\"]\n",
    "    except:\n",
    "        dateidx1 = test.Date.max()\n",
    "        pass\n",
    "    train.loc[mask1 & (train.Date >= dateidx1), \"days_from_case_100\"] = (train.Date - dateidx1).dt.days\n",
    "    test.loc[mask1 & (test.Date >= dateidx1), \"days_from_case_100\"] = (test.Date - dateidx1).dt.days    \n",
    "\n",
    "        \n",
    "    try:\n",
    "        idx1 = train.loc[mask1 & mask4 ,[\"Fatalities\"]].idxmin()[0]\n",
    "        dateidx1 = train.iloc[idx1][\"Date\"]\n",
    "    except:\n",
    "        dateidx1 = test.Date.max()\n",
    "        pass\n",
    "    train.loc[mask1 & (train.Date >= dateidx1), \"days_from_first_death\"] = (train.Date - dateidx1).dt.days\n",
    "    test.loc[mask1 & (test.Date >= dateidx1), \"days_from_first_death\"] = (test.Date - dateidx1).dt.days    "
   ]
  },
  {
   "cell_type": "code",
   "execution_count": 41,
   "metadata": {},
   "outputs": [],
   "source": [
    "# 결측 그냥 0으로 채움;;\n",
    "train.fillna(value = 0, inplace = True)\n",
    "test.fillna(value = 0, inplace = True)  "
   ]
  },
  {
   "cell_type": "code",
   "execution_count": 42,
   "metadata": {},
   "outputs": [
    {
     "data": {
      "text/html": [
       "<div>\n",
       "<style scoped>\n",
       "    .dataframe tbody tr th:only-of-type {\n",
       "        vertical-align: middle;\n",
       "    }\n",
       "\n",
       "    .dataframe tbody tr th {\n",
       "        vertical-align: top;\n",
       "    }\n",
       "\n",
       "    .dataframe thead th {\n",
       "        text-align: right;\n",
       "    }\n",
       "</style>\n",
       "<table border=\"1\" class=\"dataframe\">\n",
       "  <thead>\n",
       "    <tr style=\"text-align: right;\">\n",
       "      <th></th>\n",
       "      <th>country_province</th>\n",
       "      <th>Country_Region</th>\n",
       "      <th>Date</th>\n",
       "      <th>ConfirmedCases</th>\n",
       "      <th>Fatalities</th>\n",
       "      <th>pop</th>\n",
       "      <th>density</th>\n",
       "      <th>lung</th>\n",
       "      <th>femalelung</th>\n",
       "      <th>malelung</th>\n",
       "      <th>...</th>\n",
       "      <th>External_health_exp_pct_2016</th>\n",
       "      <th>Physicians_per_1000_2009-18</th>\n",
       "      <th>Nurse_midwife_per_1000_2009-18</th>\n",
       "      <th>Specialist_surgical_per_1000_2008-18</th>\n",
       "      <th>Completeness_of_birth_reg_2009-18</th>\n",
       "      <th>Completeness_of_death_reg_2008-16</th>\n",
       "      <th>days</th>\n",
       "      <th>days_from_first_case</th>\n",
       "      <th>days_from_first_death</th>\n",
       "      <th>days_from_case_100</th>\n",
       "    </tr>\n",
       "  </thead>\n",
       "  <tbody>\n",
       "    <tr>\n",
       "      <th>0</th>\n",
       "      <td>0</td>\n",
       "      <td>Afghanistan</td>\n",
       "      <td>2020-01-22</td>\n",
       "      <td>0.0</td>\n",
       "      <td>0.0</td>\n",
       "      <td>38928346.0</td>\n",
       "      <td>60.0</td>\n",
       "      <td>37.62</td>\n",
       "      <td>36.31</td>\n",
       "      <td>39.33</td>\n",
       "      <td>...</td>\n",
       "      <td>0.0</td>\n",
       "      <td>0.0</td>\n",
       "      <td>0.0</td>\n",
       "      <td>0.0</td>\n",
       "      <td>0.0</td>\n",
       "      <td>0.0</td>\n",
       "      <td>0</td>\n",
       "      <td>0</td>\n",
       "      <td>0</td>\n",
       "      <td>0</td>\n",
       "    </tr>\n",
       "    <tr>\n",
       "      <th>1</th>\n",
       "      <td>0</td>\n",
       "      <td>Afghanistan</td>\n",
       "      <td>2020-01-23</td>\n",
       "      <td>0.0</td>\n",
       "      <td>0.0</td>\n",
       "      <td>38928346.0</td>\n",
       "      <td>60.0</td>\n",
       "      <td>37.62</td>\n",
       "      <td>36.31</td>\n",
       "      <td>39.33</td>\n",
       "      <td>...</td>\n",
       "      <td>0.0</td>\n",
       "      <td>0.0</td>\n",
       "      <td>0.0</td>\n",
       "      <td>0.0</td>\n",
       "      <td>0.0</td>\n",
       "      <td>0.0</td>\n",
       "      <td>1</td>\n",
       "      <td>0</td>\n",
       "      <td>0</td>\n",
       "      <td>0</td>\n",
       "    </tr>\n",
       "  </tbody>\n",
       "</table>\n",
       "<p>2 rows × 25 columns</p>\n",
       "</div>"
      ],
      "text/plain": [
       "   country_province Country_Region       Date  ConfirmedCases  Fatalities  \\\n",
       "0                 0    Afghanistan 2020-01-22             0.0         0.0   \n",
       "1                 0    Afghanistan 2020-01-23             0.0         0.0   \n",
       "\n",
       "          pop  density   lung  femalelung  malelung  ...  \\\n",
       "0  38928346.0     60.0  37.62       36.31     39.33  ...   \n",
       "1  38928346.0     60.0  37.62       36.31     39.33  ...   \n",
       "\n",
       "   External_health_exp_pct_2016  Physicians_per_1000_2009-18  \\\n",
       "0                           0.0                          0.0   \n",
       "1                           0.0                          0.0   \n",
       "\n",
       "   Nurse_midwife_per_1000_2009-18  Specialist_surgical_per_1000_2008-18  \\\n",
       "0                             0.0                                   0.0   \n",
       "1                             0.0                                   0.0   \n",
       "\n",
       "   Completeness_of_birth_reg_2009-18  Completeness_of_death_reg_2008-16  days  \\\n",
       "0                                0.0                                0.0     0   \n",
       "1                                0.0                                0.0     1   \n",
       "\n",
       "   days_from_first_case  days_from_first_death  days_from_case_100  \n",
       "0                     0                      0                   0  \n",
       "1                     0                      0                   0  \n",
       "\n",
       "[2 rows x 25 columns]"
      ]
     },
     "execution_count": 42,
     "metadata": {},
     "output_type": "execute_result"
    }
   ],
   "source": [
    "train.head(2)"
   ]
  },
  {
   "cell_type": "code",
   "execution_count": 43,
   "metadata": {},
   "outputs": [
    {
     "data": {
      "text/html": [
       "<div>\n",
       "<style scoped>\n",
       "    .dataframe tbody tr th:only-of-type {\n",
       "        vertical-align: middle;\n",
       "    }\n",
       "\n",
       "    .dataframe tbody tr th {\n",
       "        vertical-align: top;\n",
       "    }\n",
       "\n",
       "    .dataframe thead th {\n",
       "        text-align: right;\n",
       "    }\n",
       "</style>\n",
       "<table border=\"1\" class=\"dataframe\">\n",
       "  <thead>\n",
       "    <tr style=\"text-align: right;\">\n",
       "      <th></th>\n",
       "      <th>country_province</th>\n",
       "      <th>Country_Region</th>\n",
       "      <th>Date</th>\n",
       "      <th>pop</th>\n",
       "      <th>density</th>\n",
       "      <th>lung</th>\n",
       "      <th>femalelung</th>\n",
       "      <th>malelung</th>\n",
       "      <th>Health_exp_pct_GDP_2016</th>\n",
       "      <th>Health_exp_public_pct_2016</th>\n",
       "      <th>...</th>\n",
       "      <th>External_health_exp_pct_2016</th>\n",
       "      <th>Physicians_per_1000_2009-18</th>\n",
       "      <th>Nurse_midwife_per_1000_2009-18</th>\n",
       "      <th>Specialist_surgical_per_1000_2008-18</th>\n",
       "      <th>Completeness_of_birth_reg_2009-18</th>\n",
       "      <th>Completeness_of_death_reg_2008-16</th>\n",
       "      <th>days</th>\n",
       "      <th>days_from_first_case</th>\n",
       "      <th>days_from_case_100</th>\n",
       "      <th>days_from_first_death</th>\n",
       "    </tr>\n",
       "  </thead>\n",
       "  <tbody>\n",
       "    <tr>\n",
       "      <th>0</th>\n",
       "      <td>0</td>\n",
       "      <td>Afghanistan</td>\n",
       "      <td>2020-04-02</td>\n",
       "      <td>38928346.0</td>\n",
       "      <td>60.0</td>\n",
       "      <td>37.62</td>\n",
       "      <td>36.31</td>\n",
       "      <td>39.33</td>\n",
       "      <td>0.0</td>\n",
       "      <td>0.0</td>\n",
       "      <td>...</td>\n",
       "      <td>0.0</td>\n",
       "      <td>0.0</td>\n",
       "      <td>0.0</td>\n",
       "      <td>0.0</td>\n",
       "      <td>0.0</td>\n",
       "      <td>0.0</td>\n",
       "      <td>0</td>\n",
       "      <td>25</td>\n",
       "      <td>6</td>\n",
       "      <td>8</td>\n",
       "    </tr>\n",
       "    <tr>\n",
       "      <th>1</th>\n",
       "      <td>0</td>\n",
       "      <td>Afghanistan</td>\n",
       "      <td>2020-04-03</td>\n",
       "      <td>38928346.0</td>\n",
       "      <td>60.0</td>\n",
       "      <td>37.62</td>\n",
       "      <td>36.31</td>\n",
       "      <td>39.33</td>\n",
       "      <td>0.0</td>\n",
       "      <td>0.0</td>\n",
       "      <td>...</td>\n",
       "      <td>0.0</td>\n",
       "      <td>0.0</td>\n",
       "      <td>0.0</td>\n",
       "      <td>0.0</td>\n",
       "      <td>0.0</td>\n",
       "      <td>0.0</td>\n",
       "      <td>1</td>\n",
       "      <td>26</td>\n",
       "      <td>7</td>\n",
       "      <td>9</td>\n",
       "    </tr>\n",
       "  </tbody>\n",
       "</table>\n",
       "<p>2 rows × 23 columns</p>\n",
       "</div>"
      ],
      "text/plain": [
       "   country_province Country_Region       Date         pop  density   lung  \\\n",
       "0                 0    Afghanistan 2020-04-02  38928346.0     60.0  37.62   \n",
       "1                 0    Afghanistan 2020-04-03  38928346.0     60.0  37.62   \n",
       "\n",
       "   femalelung  malelung  Health_exp_pct_GDP_2016  Health_exp_public_pct_2016  \\\n",
       "0       36.31     39.33                      0.0                         0.0   \n",
       "1       36.31     39.33                      0.0                         0.0   \n",
       "\n",
       "   ...  External_health_exp_pct_2016  Physicians_per_1000_2009-18  \\\n",
       "0  ...                           0.0                          0.0   \n",
       "1  ...                           0.0                          0.0   \n",
       "\n",
       "   Nurse_midwife_per_1000_2009-18  Specialist_surgical_per_1000_2008-18  \\\n",
       "0                             0.0                                   0.0   \n",
       "1                             0.0                                   0.0   \n",
       "\n",
       "   Completeness_of_birth_reg_2009-18  Completeness_of_death_reg_2008-16  days  \\\n",
       "0                                0.0                                0.0     0   \n",
       "1                                0.0                                0.0     1   \n",
       "\n",
       "   days_from_first_case  days_from_case_100  days_from_first_death  \n",
       "0                    25                   6                      8  \n",
       "1                    26                   7                      9  \n",
       "\n",
       "[2 rows x 23 columns]"
      ]
     },
     "execution_count": 43,
     "metadata": {},
     "output_type": "execute_result"
    }
   ],
   "source": [
    "test.head(2)"
   ]
  },
  {
   "cell_type": "code",
   "execution_count": 44,
   "metadata": {},
   "outputs": [
    {
     "name": "stdout",
     "output_type": "stream",
     "text": [
      "['2020-04-02T00:00:00.000000000' '2020-04-03T00:00:00.000000000'\n",
      " '2020-04-04T00:00:00.000000000' '2020-04-05T00:00:00.000000000'\n",
      " '2020-04-06T00:00:00.000000000' '2020-04-07T00:00:00.000000000'\n",
      " '2020-04-08T00:00:00.000000000' '2020-04-09T00:00:00.000000000'\n",
      " '2020-04-10T00:00:00.000000000' '2020-04-11T00:00:00.000000000'\n",
      " '2020-04-12T00:00:00.000000000' '2020-04-13T00:00:00.000000000'\n",
      " '2020-04-14T00:00:00.000000000' '2020-04-15T00:00:00.000000000'\n",
      " '2020-04-16T00:00:00.000000000' '2020-04-17T00:00:00.000000000'\n",
      " '2020-04-18T00:00:00.000000000' '2020-04-19T00:00:00.000000000'\n",
      " '2020-04-20T00:00:00.000000000' '2020-04-21T00:00:00.000000000'\n",
      " '2020-04-22T00:00:00.000000000' '2020-04-23T00:00:00.000000000'\n",
      " '2020-04-24T00:00:00.000000000' '2020-04-25T00:00:00.000000000'\n",
      " '2020-04-26T00:00:00.000000000' '2020-04-27T00:00:00.000000000'\n",
      " '2020-04-28T00:00:00.000000000' '2020-04-29T00:00:00.000000000'\n",
      " '2020-04-30T00:00:00.000000000' '2020-05-01T00:00:00.000000000'\n",
      " '2020-05-02T00:00:00.000000000' '2020-05-03T00:00:00.000000000'\n",
      " '2020-05-04T00:00:00.000000000' '2020-05-05T00:00:00.000000000'\n",
      " '2020-05-06T00:00:00.000000000' '2020-05-07T00:00:00.000000000'\n",
      " '2020-05-08T00:00:00.000000000' '2020-05-09T00:00:00.000000000'\n",
      " '2020-05-10T00:00:00.000000000' '2020-05-11T00:00:00.000000000'\n",
      " '2020-05-12T00:00:00.000000000' '2020-05-13T00:00:00.000000000'\n",
      " '2020-05-14T00:00:00.000000000']\n"
     ]
    }
   ],
   "source": [
    "result_columns = ['ConfirmedCases', 'Fatalities']\n",
    "print(train.loc[train.Date.isin(test.Date.unique()), \"Date\"].unique())\n",
    "\n",
    "sep_date = train.loc[train.Date.isin(test.Date.unique()), \"Date\"].unique().min()"
   ]
  },
  {
   "cell_type": "code",
   "execution_count": 45,
   "metadata": {},
   "outputs": [],
   "source": [
    "# train, test set 구성\n",
    "\n",
    "X_train = train.loc[(train.Date<sep_date),].drop(columns = [\"Date\", \"Country_Region\"] + result_columns)\n",
    "y_train_cases = train.loc[(train.Date<sep_date),].ConfirmedCases\n",
    "y_train_fatalities = train.loc[(train.Date<sep_date),].Fatalities\n",
    "\n",
    "X_val = train.loc[(train.Date>=sep_date),].drop(columns = [\"Date\", \"Country_Region\"] + result_columns)\n",
    "y_val_cases = train.loc[(train.Date>=sep_date),].ConfirmedCases\n",
    "y_val_fatalities = train.loc[(train.Date>=sep_date),].Fatalities\n",
    "\n",
    "X_test = test.drop(columns =[\"Date\", \"Country_Region\"])"
   ]
  },
  {
   "cell_type": "code",
   "execution_count": 46,
   "metadata": {},
   "outputs": [
    {
     "name": "stdout",
     "output_type": "stream",
     "text": [
      "(22223, 21) (13772, 21) (13459, 21)\n"
     ]
    }
   ],
   "source": [
    "print(X_train.shape, X_val.shape, X_test.shape)"
   ]
  },
  {
   "cell_type": "code",
   "execution_count": 47,
   "metadata": {},
   "outputs": [],
   "source": [
    "#RMSE 규정\n",
    "\n",
    "from sklearn.metrics import mean_squared_error\n",
    "def validate_models(model_cases, model_fatalities):\n",
    "    predict_train_cases = model_cases.predict(X_train)\n",
    "    predict_val_cases = model_cases.predict(X_val)\n",
    "    print(\"RMSE in train detected cases: \", np.sqrt(mean_squared_error(y_train_cases, predict_train_cases)))\n",
    "    print(\"RMSE in validation detected cases: \", np.sqrt(mean_squared_error(y_val_cases, predict_val_cases)))\n",
    "    predict_train_fatalities = model_fatalities.predict(X_train)\n",
    "    predict_val_fatalities = model_fatalities.predict(X_val)\n",
    "    print(\"RMSE in train fatalities: \", np.sqrt(mean_squared_error(y_train_fatalities, predict_train_fatalities)))\n",
    "    print(\"RMSE in validation fatalities: \", np.sqrt(mean_squared_error(y_val_fatalities, predict_val_fatalities)))"
   ]
  },
  {
   "cell_type": "markdown",
   "metadata": {},
   "source": [
    "## 모델링"
   ]
  },
  {
   "cell_type": "code",
   "execution_count": 48,
   "metadata": {},
   "outputs": [
    {
     "name": "stdout",
     "output_type": "stream",
     "text": [
      "RMSE in train detected cases:  4228.202981339912\n",
      "RMSE in validation detected cases:  28261.918480444732\n",
      "RMSE in train fatalities:  286.6106577497591\n",
      "RMSE in validation fatalities:  2852.4900884752547\n"
     ]
    }
   ],
   "source": [
    "# 회귀 모델링\n",
    "\n",
    "from sklearn.linear_model import LinearRegression\n",
    "lm_cases = LinearRegression()\n",
    "lm_cases.fit(X_train, y_train_cases)\n",
    "\n",
    "lm_fatalities = LinearRegression()\n",
    "lm_fatalities.fit(X_train, y_train_fatalities)\n",
    "\n",
    "validate_models(lm_cases, lm_fatalities)"
   ]
  },
  {
   "cell_type": "code",
   "execution_count": 49,
   "metadata": {},
   "outputs": [
    {
     "data": {
      "text/plain": [
       "<matplotlib.axes._subplots.AxesSubplot at 0x1b002b82b48>"
      ]
     },
     "execution_count": 49,
     "metadata": {},
     "output_type": "execute_result"
    },
    {
     "data": {
      "image/png": "[encoded data removed]",
      "text/plain": [
       "<Figure size 720x720 with 2 Axes>"
      ]
     },
     "metadata": {
      "needs_background": "light"
     },
     "output_type": "display_data"
    }
   ],
   "source": [
    "# 스피어만 상관계수 \n",
    "# 'ConfirmedCases', 'Fatalities'\n",
    "import scipy as sp \n",
    "cor_abs = abs(train.corr(method='spearman'))\n",
    "cor_cols = cor_abs.nlargest(n=10, columns='ConfirmedCases').index\n",
    "cor = np.array(sp.stats.spearmanr(train[cor_cols].values))[0]\n",
    "plt.figure(figsize=(10,10))\n",
    "sns.set(font_scale=1.25)\n",
    "sns.heatmap(cor, fmt='.2f', annot=True, annot_kws={'size':10}, \n",
    "            xticklabels=cor_cols.values, yticklabels=cor_cols.values)"
   ]
  },
  {
   "cell_type": "markdown",
   "metadata": {},
   "source": [
    "나 안해 나 안해 나 안해 나 안해 진짜 장난하냐????????????????나 안해;;;;;;;"
   ]
  },
  {
   "cell_type": "code",
   "execution_count": 50,
   "metadata": {},
   "outputs": [
    {
     "name": "stdout",
     "output_type": "stream",
     "text": [
      "RMSE in train detected cases:  1001.1851101356687\n",
      "RMSE in validation detected cases:  26925.66544113003\n",
      "RMSE in train fatalities:  60.60868752920965\n",
      "RMSE in validation fatalities:  4373.5417935060395\n"
     ]
    }
   ],
   "source": [
    "#RandomForest\n",
    "from sklearn.ensemble import RandomForestRegressor\n",
    "rf_cases = RandomForestRegressor(n_estimators= 400, max_depth=6, random_state=0, verbose=0, n_jobs=-1)\n",
    "rf_cases.fit(X_train, y_train_cases)\n",
    "\n",
    "rf_fatalities = RandomForestRegressor(n_estimators= 400, max_depth=6, random_state=0, verbose=0, n_jobs=-1)\n",
    "rf_fatalities.fit(X_train, y_train_fatalities)\n",
    "\n",
    "validate_models(rf_cases, rf_fatalities)"
   ]
  },
  {
   "cell_type": "markdown",
   "metadata": {},
   "source": [
    "오 뭐야 줄었어;;;;"
   ]
  },
  {
   "cell_type": "code",
   "execution_count": 52,
   "metadata": {},
   "outputs": [
    {
     "data": {
      "image/png": "[encoded data removed]",
      "text/plain": [
       "<Figure size 432x288 with 1 Axes>"
      ]
     },
     "metadata": {},
     "output_type": "display_data"
    }
   ],
   "source": [
    "lgb.plot_importance(lgbm_fatalities)\n",
    "plt.rcParams['figure.figsize'] = [10, 10]\n",
    "plt.show()"
   ]
  },
  {
   "cell_type": "code",
   "execution_count": 53,
   "metadata": {},
   "outputs": [],
   "source": [
    "lag_number = 3\n",
    "for lag in range(1, lag_number + 1):\n",
    "    var_name = \"cases_lag%d\" % lag\n",
    "    train[var_name] = train.ConfirmedCases.shift(periods = lag)\n",
    "    train.loc[train.Date <= train.Date[lag - 1] , var_name] = 0\n",
    "    var_name = \"fatalities_lag%d\" % lag\n",
    "    train[var_name] = train.Fatalities.shift(periods = 1)\n",
    "    train.loc[train.Date <= train.Date[lag - 1] , var_name] = 0"
   ]
  },
  {
   "cell_type": "code",
   "execution_count": 58,
   "metadata": {},
   "outputs": [
    {
     "name": "stdout",
     "output_type": "stream",
     "text": [
      "RMSE in train detected cases:  4228.202981339912\n",
      "RMSE in validation detected cases:  28261.918480444732\n",
      "RMSE in train fatalities:  286.6106577497591\n",
      "RMSE in validation fatalities:  2852.4900884752547\n",
      "------------------\n",
      "RMSE in train detected cases:  1001.1851101356685\n",
      "RMSE in validation detected cases:  26925.66544113003\n",
      "RMSE in train fatalities:  60.60868752920965\n",
      "RMSE in validation fatalities:  4373.5417935060395\n",
      "------------------\n",
      "RMSE in train detected cases:  54.44896317384946\n",
      "RMSE in validation detected cases:  31438.155176089625\n",
      "RMSE in train fatalities:  1.7508702710437054\n",
      "RMSE in validation fatalities:  3397.971701879728\n"
     ]
    }
   ],
   "source": [
    "# rmse 비교\n",
    "validate_models(lm_cases, lm_fatalities)\n",
    "print(\"------------------\")\n",
    "validate_models(rf_cases, rf_fatalities)\n",
    "print(\"------------------\")\n",
    "validate_models(lgbm_cases, lgbm_fatalities)"
   ]
  },
  {
   "cell_type": "markdown",
   "metadata": {},
   "source": [
    "나 안해 안해 안해 안해 안해 안해 안해"
   ]
  },
  {
   "cell_type": "code",
   "execution_count": null,
   "metadata": {},
   "outputs": [],
   "source": []
  }
 ],
 "metadata": {
  "kernelspec": {
   "display_name": "Python 3",
   "language": "python",
   "name": "python3"
  },
  "language_info": {
   "codemirror_mode": {
    "name": "ipython",
    "version": 3
   },
   "file_extension": ".py",
   "mimetype": "text/x-python",
   "name": "python",
   "nbconvert_exporter": "python",
   "pygments_lexer": "ipython3",
   "version": "3.7.7"
  }
 },
 "nbformat": 4,
 "nbformat_minor": 4
}
